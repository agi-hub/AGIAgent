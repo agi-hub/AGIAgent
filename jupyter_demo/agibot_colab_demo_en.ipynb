{
  "cells": [
    {
      "cell_type": "code",
      "execution_count": null,
      "metadata": {
        "vscode": {
          "languageId": "plaintext"
        }
      },
      "outputs": [],
      "source": [
        "# 🤖 AGIBot - AI-Driven Autonomous Task Execution System\n",
        "\n",
        "This Notebook is used to try AGIBot software in Google Colab environment.\n",
        "\n",
        "**AGIBot** is an AI-driven intelligent code generation and autonomous task execution system that can automatically decompose complex tasks and complete them through multi-round iterations and tool calls.\n"
      ]
    },
    {
      "cell_type": "code",
      "execution_count": null,
      "metadata": {},
      "outputs": [],
      "source": [
        "# Clone AGIBot project\n",
        "import os\n",
        "\n",
        "!git clone https://github.com/agi-hub/AGIBot.git\n",
        "\n",
        "# Switch to project directory and install dependencies\n",
        "!pip install selenium\n",
        "!pip install -r requirements.txt\n",
        "\n",
        "!playwright install\n",
        "os.chdir('/content/AGIBot')\n"
      ]
    },
    {
      "cell_type": "code",
      "execution_count": null,
      "metadata": {},
      "outputs": [],
      "source": [
        "!playwright install-deps\n",
        "!playwright install chromium\n"
      ]
    },
    {
      "cell_type": "code",
      "execution_count": null,
      "metadata": {},
      "outputs": [],
      "source": [
        "Note: Now, please open the folder on the left and configure the API Key, API Base, and Max Tokens options in config.txt.\n"
      ]
    },
    {
      "cell_type": "code",
      "execution_count": null,
      "metadata": {},
      "outputs": [],
      "source": [
        "## 🚀 Step 3: Launch AGIBot\n",
        "! python3 main.py -r \"Write a song for programmers\" -d \"output_sing\"\n"
      ]
    },
    {
      "cell_type": "code",
      "execution_count": null,
      "metadata": {},
      "outputs": [],
      "source": [
        "# You can find AGI Bot's output in the dir folder\n",
        "! ls -al output_sing/workspace\n"
      ]
    },
    {
      "cell_type": "code",
      "execution_count": null,
      "metadata": {},
      "outputs": [],
      "source": [
        "# You can download this directory to your local machine. After execution, you can find the compressed file in the folder\n",
        "!tar zcvf agibotdemo.tar.gz output_sing/workspace\n"
      ]
    },
    {
      "cell_type": "code",
      "execution_count": null,
      "metadata": {},
      "outputs": [],
      "source": [
        "#### More Task Examples\n",
        "    You can try more tasks, for example:\n",
        "    ! python3 main.py -r \"Scrape today's news\"\n",
        "    ! python3 main.py -r \"Create a Python calculator program\"\n",
        "    ! python3 main.py -r \"Write a PowerPoint presentation about LLM intelligent agents\"\n"
      ]
    }
  ],
  "metadata": {
    "language_info": {
      "name": "python"
    }
  },
  "nbformat": 4,
  "nbformat_minor": 2
}
