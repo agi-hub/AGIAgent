{
 "cells": [
  {
   "cell_type": "markdown",
   "metadata": {
    "id": "PSbUtAQAa12u"
   },
   "source": [
    "# 🤖 AGIBot - AI-Driven Autonomous Task Execution System\n",
    "\n",
    "This Notebook is used to try AGIBot software in Google Colab environment.\n",
    "\n",
    "**AGIBot** is an AI-driven intelligent code generation and autonomous task execution system that can automatically decompose complex tasks and complete them through multi-round iterations and tool calls.\n"
   ]
  },
  {
   "cell_type": "code",
   "execution_count": 1,
   "metadata": {
    "colab": {
     "base_uri": "https://localhost:8080/"
    },
    "executionInfo": {
     "elapsed": 15882,
     "status": "ok",
     "timestamp": 1750821604916,
     "user": {
      "displayName": "吴臻志",
      "userId": "08976384057216795649"
     },
     "user_tz": -480
    },
    "id": "s9I1rznjZ8Ul",
    "outputId": "7f4f3d6b-736b-4277-9074-99df71948af3"
   },
   "outputs": [
    {
     "name": "stdout",
     "output_type": "stream",
     "text": [
      "Cloning into 'AGIBot'...\n",
      "remote: Enumerating objects: 239, done.\u001b[K\n",
      "remote: Counting objects: 100% (239/239), done.\u001b[K\n",
      "remote: Compressing objects: 100% (160/160), done.\u001b[K\n",
      "remote: Total 239 (delta 139), reused 175 (delta 75), pack-reused 0 (from 0)\u001b[K\n",
      "Receiving objects: 100% (239/239), 1.39 MiB | 8.98 MiB/s, done.\n",
      "Resolving deltas: 100% (139/139), done.\n",
      "Requirement already satisfied: requests>=2.20.0 in /usr/local/lib/python3.11/dist-packages (from -r requirements.txt (line 1)) (2.32.3)\n",
      "Requirement already satisfied: openai>=1.0.0 in /usr/local/lib/python3.11/dist-packages (from -r requirements.txt (line 2)) (1.87.0)\n",
      "Collecting anthropic>=0.3.0 (from -r requirements.txt (line 3))\n",
      "  Downloading anthropic-0.55.0-py3-none-any.whl.metadata (27 kB)\n",
      "Requirement already satisfied: numpy>=1.18.0 in /usr/local/lib/python3.11/dist-packages (from -r requirements.txt (line 4)) (2.0.2)\n",
      "Requirement already satisfied: scikit-learn>=0.22.0 in /usr/local/lib/python3.11/dist-packages (from -r requirements.txt (line 6)) (1.6.1)\n",
      "Requirement already satisfied: jieba>=0.35.0 in /usr/local/lib/python3.11/dist-packages (from -r requirements.txt (line 7)) (0.42.1)\n",
      "Collecting playwright>=1.20.0 (from -r requirements.txt (line 8))\n",
      "  Downloading playwright-1.52.0-py3-none-manylinux1_x86_64.whl.metadata (3.5 kB)\n",
      "Requirement already satisfied: tqdm>=4.30.0 in /usr/local/lib/python3.11/dist-packages (from -r requirements.txt (line 9)) (4.67.1)\n",
      "Collecting pandoc>=2.0.0 (from -r requirements.txt (line 10))\n",
      "  Downloading pandoc-2.4.tar.gz (34 kB)\n",
      "  Preparing metadata (setup.py) ... \u001b[?25l\u001b[?25hdone\n",
      "Requirement already satisfied: flask>=2.0.0 in /usr/local/lib/python3.11/dist-packages (from -r requirements.txt (line 13)) (3.1.1)\n",
      "Collecting flask-socketio>=5.0.0 (from -r requirements.txt (line 14))\n",
      "  Downloading Flask_SocketIO-5.5.1-py3-none-any.whl.metadata (2.6 kB)\n",
      "Collecting eventlet>=0.30.0 (from -r requirements.txt (line 15))\n",
      "  Downloading eventlet-0.40.1-py3-none-any.whl.metadata (5.4 kB)\n",
      "Requirement already satisfied: charset-normalizer<4,>=2 in /usr/local/lib/python3.11/dist-packages (from requests>=2.20.0->-r requirements.txt (line 1)) (3.4.2)\n",
      "Requirement already satisfied: idna<4,>=2.5 in /usr/local/lib/python3.11/dist-packages (from requests>=2.20.0->-r requirements.txt (line 1)) (3.10)\n",
      "Requirement already satisfied: urllib3<3,>=1.21.1 in /usr/local/lib/python3.11/dist-packages (from requests>=2.20.0->-r requirements.txt (line 1)) (2.4.0)\n",
      "Requirement already satisfied: certifi>=2017.4.17 in /usr/local/lib/python3.11/dist-packages (from requests>=2.20.0->-r requirements.txt (line 1)) (2025.6.15)\n",
      "Requirement already satisfied: anyio<5,>=3.5.0 in /usr/local/lib/python3.11/dist-packages (from openai>=1.0.0->-r requirements.txt (line 2)) (4.9.0)\n",
      "Requirement already satisfied: distro<2,>=1.7.0 in /usr/local/lib/python3.11/dist-packages (from openai>=1.0.0->-r requirements.txt (line 2)) (1.9.0)\n",
      "Requirement already satisfied: httpx<1,>=0.23.0 in /usr/local/lib/python3.11/dist-packages (from openai>=1.0.0->-r requirements.txt (line 2)) (0.28.1)\n",
      "Requirement already satisfied: jiter<1,>=0.4.0 in /usr/local/lib/python3.11/dist-packages (from openai>=1.0.0->-r requirements.txt (line 2)) (0.10.0)\n",
      "Requirement already satisfied: pydantic<3,>=1.9.0 in /usr/local/lib/python3.11/dist-packages (from openai>=1.0.0->-r requirements.txt (line 2)) (2.11.7)\n",
      "Requirement already satisfied: sniffio in /usr/local/lib/python3.11/dist-packages (from openai>=1.0.0->-r requirements.txt (line 2)) (1.3.1)\n",
      "Requirement already satisfied: typing-extensions<5,>=4.11 in /usr/local/lib/python3.11/dist-packages (from openai>=1.0.0->-r requirements.txt (line 2)) (4.14.0)\n",
      "Requirement already satisfied: scipy>=1.6.0 in /usr/local/lib/python3.11/dist-packages (from scikit-learn>=0.22.0->-r requirements.txt (line 6)) (1.15.3)\n",
      "Requirement already satisfied: joblib>=1.2.0 in /usr/local/lib/python3.11/dist-packages (from scikit-learn>=0.22.0->-r requirements.txt (line 6)) (1.5.1)\n",
      "Requirement already satisfied: threadpoolctl>=3.1.0 in /usr/local/lib/python3.11/dist-packages (from scikit-learn>=0.22.0->-r requirements.txt (line 6)) (3.6.0)\n",
      "Collecting pyee<14,>=13 (from playwright>=1.20.0->-r requirements.txt (line 8))\n",
      "  Downloading pyee-13.0.0-py3-none-any.whl.metadata (2.9 kB)\n",
      "Requirement already satisfied: greenlet<4.0.0,>=3.1.1 in /usr/local/lib/python3.11/dist-packages (from playwright>=1.20.0->-r requirements.txt (line 8)) (3.2.3)\n",
      "Collecting plumbum (from pandoc>=2.0.0->-r requirements.txt (line 10))\n",
      "  Downloading plumbum-1.9.0-py3-none-any.whl.metadata (10 kB)\n",
      "Requirement already satisfied: ply in /usr/local/lib/python3.11/dist-packages (from pandoc>=2.0.0->-r requirements.txt (line 10)) (3.11)\n",
      "Requirement already satisfied: blinker>=1.9.0 in /usr/local/lib/python3.11/dist-packages (from flask>=2.0.0->-r requirements.txt (line 13)) (1.9.0)\n",
      "Requirement already satisfied: click>=8.1.3 in /usr/local/lib/python3.11/dist-packages (from flask>=2.0.0->-r requirements.txt (line 13)) (8.2.1)\n",
      "Requirement already satisfied: itsdangerous>=2.2.0 in /usr/local/lib/python3.11/dist-packages (from flask>=2.0.0->-r requirements.txt (line 13)) (2.2.0)\n",
      "Requirement already satisfied: jinja2>=3.1.2 in /usr/local/lib/python3.11/dist-packages (from flask>=2.0.0->-r requirements.txt (line 13)) (3.1.6)\n",
      "Requirement already satisfied: markupsafe>=2.1.1 in /usr/local/lib/python3.11/dist-packages (from flask>=2.0.0->-r requirements.txt (line 13)) (3.0.2)\n",
      "Requirement already satisfied: werkzeug>=3.1.0 in /usr/local/lib/python3.11/dist-packages (from flask>=2.0.0->-r requirements.txt (line 13)) (3.1.3)\n",
      "Collecting python-socketio>=5.12.0 (from flask-socketio>=5.0.0->-r requirements.txt (line 14))\n",
      "  Downloading python_socketio-5.13.0-py3-none-any.whl.metadata (3.2 kB)\n",
      "Collecting dnspython>=1.15.0 (from eventlet>=0.30.0->-r requirements.txt (line 15))\n",
      "  Downloading dnspython-2.7.0-py3-none-any.whl.metadata (5.8 kB)\n",
      "Requirement already satisfied: httpcore==1.* in /usr/local/lib/python3.11/dist-packages (from httpx<1,>=0.23.0->openai>=1.0.0->-r requirements.txt (line 2)) (1.0.9)\n",
      "Requirement already satisfied: h11>=0.16 in /usr/local/lib/python3.11/dist-packages (from httpcore==1.*->httpx<1,>=0.23.0->openai>=1.0.0->-r requirements.txt (line 2)) (0.16.0)\n",
      "Requirement already satisfied: annotated-types>=0.6.0 in /usr/local/lib/python3.11/dist-packages (from pydantic<3,>=1.9.0->openai>=1.0.0->-r requirements.txt (line 2)) (0.7.0)\n",
      "Requirement already satisfied: pydantic-core==2.33.2 in /usr/local/lib/python3.11/dist-packages (from pydantic<3,>=1.9.0->openai>=1.0.0->-r requirements.txt (line 2)) (2.33.2)\n",
      "Requirement already satisfied: typing-inspection>=0.4.0 in /usr/local/lib/python3.11/dist-packages (from pydantic<3,>=1.9.0->openai>=1.0.0->-r requirements.txt (line 2)) (0.4.1)\n",
      "Collecting bidict>=0.21.0 (from python-socketio>=5.12.0->flask-socketio>=5.0.0->-r requirements.txt (line 14))\n",
      "  Downloading bidict-0.23.1-py3-none-any.whl.metadata (8.7 kB)\n",
      "Collecting python-engineio>=4.11.0 (from python-socketio>=5.12.0->flask-socketio>=5.0.0->-r requirements.txt (line 14))\n",
      "  Downloading python_engineio-4.12.2-py3-none-any.whl.metadata (2.2 kB)\n",
      "Collecting simple-websocket>=0.10.0 (from python-engineio>=4.11.0->python-socketio>=5.12.0->flask-socketio>=5.0.0->-r requirements.txt (line 14))\n",
      "  Downloading simple_websocket-1.1.0-py3-none-any.whl.metadata (1.5 kB)\n",
      "Collecting wsproto (from simple-websocket>=0.10.0->python-engineio>=4.11.0->python-socketio>=5.12.0->flask-socketio>=5.0.0->-r requirements.txt (line 14))\n",
      "  Downloading wsproto-1.2.0-py3-none-any.whl.metadata (5.6 kB)\n",
      "Downloading anthropic-0.55.0-py3-none-any.whl (289 kB)\n",
      "\u001b[2K   \u001b[90m━━━━━━━━━━━━━━━━━━━━━━━━━━━━━━━━━━━━━━━━\u001b[0m \u001b[32m289.3/289.3 kB\u001b[0m \u001b[31m8.6 MB/s\u001b[0m eta \u001b[36m0:00:00\u001b[0m\n",
      "\u001b[?25hDownloading playwright-1.52.0-py3-none-manylinux1_x86_64.whl (45.1 MB)\n",
      "\u001b[2K   \u001b[90m━━━━━━━━━━━━━━━━━━━━━━━━━━━━━━━━━━━━━━━━\u001b[0m \u001b[32m45.1/45.1 MB\u001b[0m \u001b[31m20.5 MB/s\u001b[0m eta \u001b[36m0:00:00\u001b[0m\n",
      "\u001b[?25hDownloading Flask_SocketIO-5.5.1-py3-none-any.whl (18 kB)\n",
      "Downloading eventlet-0.40.1-py3-none-any.whl (364 kB)\n",
      "\u001b[2K   \u001b[90m━━━━━━━━━━━━━━━━━━━━━━━━━━━━━━━━━━━━━━━━\u001b[0m \u001b[32m364.1/364.1 kB\u001b[0m \u001b[31m27.6 MB/s\u001b[0m eta \u001b[36m0:00:00\u001b[0m\n",
      "\u001b[?25hDownloading dnspython-2.7.0-py3-none-any.whl (313 kB)\n",
      "\u001b[2K   \u001b[90m━━━━━━━━━━━━━━━━━━━━━━━━━━━━━━━━━━━━━━━━\u001b[0m \u001b[32m313.6/313.6 kB\u001b[0m \u001b[31m25.7 MB/s\u001b[0m eta \u001b[36m0:00:00\u001b[0m\n",
      "\u001b[?25hDownloading pyee-13.0.0-py3-none-any.whl (15 kB)\n",
      "Downloading python_socketio-5.13.0-py3-none-any.whl (77 kB)\n",
      "\u001b[2K   \u001b[90m━━━━━━━━━━━━━━━━━━━━━━━━━━━━━━━━━━━━━━━━\u001b[0m \u001b[32m77.8/77.8 kB\u001b[0m \u001b[31m6.0 MB/s\u001b[0m eta \u001b[36m0:00:00\u001b[0m\n",
      "\u001b[?25hDownloading plumbum-1.9.0-py3-none-any.whl (127 kB)\n",
      "\u001b[2K   \u001b[90m━━━━━━━━━━━━━━━━━━━━━━━━━━━━━━━━━━━━━━━━\u001b[0m \u001b[32m128.0/128.0 kB\u001b[0m \u001b[31m9.3 MB/s\u001b[0m eta \u001b[36m0:00:00\u001b[0m\n",
      "\u001b[?25hDownloading bidict-0.23.1-py3-none-any.whl (32 kB)\n",
      "Downloading python_engineio-4.12.2-py3-none-any.whl (59 kB)\n",
      "\u001b[2K   \u001b[90m━━━━━━━━━━━━━━━━━━━━━━━━━━━━━━━━━━━━━━━━\u001b[0m \u001b[32m59.5/59.5 kB\u001b[0m \u001b[31m4.3 MB/s\u001b[0m eta \u001b[36m0:00:00\u001b[0m\n",
      "\u001b[?25hDownloading simple_websocket-1.1.0-py3-none-any.whl (13 kB)\n",
      "Downloading wsproto-1.2.0-py3-none-any.whl (24 kB)\n",
      "Building wheels for collected packages: pandoc\n",
      "  Building wheel for pandoc (setup.py) ... \u001b[?25l\u001b[?25hdone\n",
      "  Created wheel for pandoc: filename=pandoc-2.4-py3-none-any.whl size=34793 sha256=dfa72725337cdb96d979273b191b503ad6fa1999cc116a954b55afca411fcb4b\n",
      "  Stored in directory: /root/.cache/pip/wheels/4f/d7/32/c6c9b7b05e852e920fd72174487be3a0f18e633a7adcc303be\n",
      "Successfully built pandoc\n",
      "Installing collected packages: wsproto, pyee, plumbum, dnspython, bidict, simple-websocket, playwright, pandoc, eventlet, python-engineio, anthropic, python-socketio, flask-socketio\n",
      "Successfully installed anthropic-0.55.0 bidict-0.23.1 dnspython-2.7.0 eventlet-0.40.1 flask-socketio-5.5.1 pandoc-2.4 playwright-1.52.0 plumbum-1.9.0 pyee-13.0.0 python-engineio-4.12.2 python-socketio-5.13.0 simple-websocket-1.1.0 wsproto-1.2.0\n"
     ]
    }
   ],
   "source": [
    "# Clone AGIBot project\n",
    "import os\n",
    "\n",
    "os.chdir('/content')\n",
    "!git clone https://github.com/agi-hub/AGIBot.git\n",
    "\n",
    "# Switch to project directory and install dependencies\n",
    "os.chdir('AGIBot')\n",
    "!pip install -r requirements.txt\n",
    "\n",
    "\n"
   ]
  },
  {
   "cell_type": "code",
   "execution_count": 2,
   "metadata": {
    "colab": {
     "base_uri": "https://localhost:8080/"
    },
    "executionInfo": {
     "elapsed": 47060,
     "status": "ok",
     "timestamp": 1750821651987,
     "user": {
      "displayName": "吴臻志",
      "userId": "08976384057216795649"
     },
     "user_tz": -480
    },
    "id": "lp-6JrpqZ8Un",
    "outputId": "23a14ae0-8052-40f2-e88d-859672812bf4"
   },
   "outputs": [
    {
     "name": "stdout",
     "output_type": "stream",
     "text": [
      "W: Skipping acquire of configured file 'main/source/Sources' as repository 'https://r2u.stat.illinois.edu/ubuntu jammy InRelease' does not seem to provide it (sources.list entry misspelt?)\n",
      "Extracting templates from packages: 100%\n"
     ]
    }
   ],
   "source": [
    "!playwright install-deps > NULL\n",
    "!playwright install chromium > NULL\n"
   ]
  },
  {
   "cell_type": "code",
   "execution_count": 3,
   "metadata": {
    "executionInfo": {
     "elapsed": 60,
     "status": "ok",
     "timestamp": 1750821652101,
     "user": {
      "displayName": "吴臻志",
      "userId": "08976384057216795649"
     },
     "user_tz": -480
    },
    "id": "ZejaSGNa0gVg"
   },
   "outputs": [],
   "source": [
    "!sed -i -e 's/^#LANG=en/LANG=en/' -e 's/^LANG=zh/#LANG=zh/' config/config.txt"
   ]
  },
  {
   "cell_type": "markdown",
   "metadata": {
    "id": "dhoIvpFEbJm9"
   },
   "source": [
    "Note: If you have other API keys, please open the folder on the left and configure the API Key, API Base, and Max Tokens options in config/config.txt.\n"
   ]
  },
  {
   "cell_type": "code",
   "execution_count": 10,
   "metadata": {
    "colab": {
     "base_uri": "https://localhost:8080/"
    },
    "executionInfo": {
     "elapsed": 86285,
     "status": "ok",
     "timestamp": 1750821903038,
     "user": {
      "displayName": "吴臻志",
      "userId": "08976384057216795649"
     },
     "user_tz": -480
    },
    "id": "X_uSLDWGZ8Up",
    "outputId": "f2b6899b-f078-4239-fab5-ed8a17ad4fc1"
   },
   "outputs": [
    {
     "name": "stdout",
     "output_type": "stream",
     "text": [
      "📁 Project: /content/AGIBot/output_sing\n",
      "Received user requirement: Write a song in python code for programmers\n",
      "📁 Workspace directory created: output_sing/workspace\n",
      "Processing files: 0it [00:00, ?it/s]\n",
      "🔧 DEBUG: TerminalTools initialized with workspace_root: output_sing/workspace\n",
      "📁 Created web search result directory: output_sing/workspace/web_search_result\n",
      "🤖 LLM features enabled with model deepseek-chat: search results summarization\n",
      "🚀 Starting task execution (25 rounds max)\n",
      "📋 Starting task execution [1/1] - Task1: User Requirement Execution\n",
      "⏳ Starting task round 1 execution...\n",
      "✅ Loaded system prompt from: prompts/system_prompt.txt\n",
      "✅ Loaded rules and tools prompts from: prompts/tool_prompt.txt, prompts/rules_prompt.txt\n",
      "🤖 Calling LLM: Task description: Write a song in python code for programmers\n",
      "🔄 Starting streaming generation...\n",
      "I'll create a Python program that generates a song for programmers. Since the workspace is empty, I'll start by creating a new Python file.\n",
      "\n",
      "<function_calls>\n",
      "<invoke name=\"edit_file\">\n",
      "<parameter name=\"target_file\">programmer_song.py</parameter>\n",
      "<parameter name=\"instructions\">Create a Python program that generates a song for programmers</parameter>\n",
      "<parameter name=\"code_edit\">#!/usr/bin/env python3\n",
      "# Programmer's Song Generator\n",
      "\n",
      "import random\n",
      "import time\n",
      "\n",
      "class ProgrammerSong:\n",
      "    def __init__(self):\n",
      "        self.verses = [\n",
      "            \"Code all night, debug till dawn,\",\n",
      "            \"Chasing bugs until they're gone,\",\n",
      "            \"Coffee strong, the screen so bright,\",\n",
      "            \"Fixing errors by moonlight.\",\n",
      "            \n",
      "            \"\\nFunctions call, returns are true,\",\n",
      "            \"Objects do what they should do,\",\n",
      "            \"Tests all pass, the build is green,\",\n",
      "            \"Best damn code you've ever seen.\",\n",
      "            \n",
      "            \"\\nMerge requests, CI runs,\",\n",
      "            \"Optimizing just for funs,\",\n",
      "            \"Stack so deep, the heap so wide,\",\n",
      "            \"Memory leaks we must divide.\",\n",
      "            \n",
      "            \"\\nAgile sprints, standups too,\",\n",
      "            \"User stories to pursue,\",\n",
      "            \"Tech debt grows, we must confess,\",\n",
      "            \"But first let's merge to main, I guess.\"\n",
      "        ]\n",
      "        \n",
      "        self.chorus = [\n",
      "            \"\\n[CHORUS]\",\n",
      "            \"We are the coders, the keyboard kings,\",\n",
      "            \"Solving problems that the world brings,\",\n",
      "            \"From Python scripts to C++,\",\n",
      "            \"We make the tech that runs your day!\"\n",
      "        ]\n",
      "        \n",
      "        self.bridge = [\n",
      "            \"\\n[BRIDGE]\",\n",
      "            \"Git commit, git push,\",\n",
      "            \"Then the build fails - oh what a rush!\",\n",
      "            \"Revert the change, try once more,\",\n",
      "            \"This time it works - now we deploy!\"\n",
      "        ]\n",
      "    \n",
      "    def generate_song(self):\n",
      "        song = []\n",
      "        song.append(\"\\n=== PROGRAMMER'S SONG ===\\n\")\n",
      "        \n",
      "        # Add verses\n",
      "        for verse in self.verses:\n",
      "            song.append(verse)\n",
      "            \n",
      "            # Add chorus after every 2 verses\n",
      "            if (self.verses.index(verse) + 1) % 2 == 0:\n",
      "                song.extend(self.chorus)\n",
      "                \n",
      "        # Add bridge before final chorus\n",
      "        song.extend(self.bridge)\n",
      "        song.extend(self.chorus)\n",
      "        \n",
      "        song.append(\"\\n=== END OF SONG ===\\n\")\n",
      "        return '\\n'.join(song)\n",
      "    \n",
      "    def sing(self):\n",
      "        for line in self.generate_song().split('\\n'):\n",
      "            print(line)\n",
      "            time.sleep(0.5 if line.strip() else 0.2)\n",
      "\n",
      "if __name__ == \"__main__\":\n",
      "    print(\"Generating programmer's song...\\n\")\n",
      "    song = ProgrammerSong()\n",
      "    song.sing()</parameter>\n",
      "<parameter name=\"append_mode\">false</parameter>\n",
      "</invoke>\n",
      "</function_calls>\n",
      "✅ Streaming completed\n",
      "\n",
      "📝 Response content length: 2789 characters\n",
      "📊 Input history (cached) tokens: 0, Input new tokens: 5,861, Output tokens: 796\n",
      "🔧 Found 1 tool calls, starting execution...\n",
      "<tool_execute tool_name=\"edit_file\" tool_number=\"1\">\n",
      "   - Executing tool 1: edit_file\n",
      "Executing tool: edit_file with params: ['target_file', 'instructions', 'code_edit', 'append_mode']\n",
      "Editing file: programmer_song.py\n",
      "Instructions: Create a Python program that generates a song for programmers\n",
      "Status: created\n",
      "File: programmer_song.py\n",
      "</tool_execute>\n",
      "✅ Task round 1 execution completed\n",
      "\n",
      "📝 Task Round 1 response summary: I'll create a Python program that generates a song for programmers. Since the workspace is empty, I'll start by creating a new Python file.\n",
      "⏳ Starting task round 2 execution...\n",
      "✅ Loaded system prompt from: prompts/system_prompt.txt\n",
      "✅ Loaded rules and tools prompts from: prompts/tool_prompt.txt, prompts/rules_prompt.txt\n",
      "🤖 Calling LLM: Task description: Write a song in python code for programmers\n",
      "🔄 Starting streaming generation...\n",
      "I'll now test the Python song generator program to ensure it works as expected. I'll run the program and verify the output.\n",
      "\n",
      "<function_calls>\n",
      "<invoke name=\"run_terminal_cmd\">\n",
      "<parameter name=\"command\">python3 programmer_song.py</parameter>\n",
      "<parameter name=\"is_background\">false</parameter>\n",
      "</invoke>\n",
      "</function_calls>\n",
      "✅ Streaming completed\n",
      "\n",
      "📝 Response content length: 317 characters\n",
      "📊 Input history (cached) tokens: 5,863, Input new tokens: 329, Output tokens: 90\n",
      "🔧 Found 1 tool calls, starting execution...\n",
      "<tool_execute tool_name=\"run_terminal_cmd\" tool_number=\"1\">\n",
      "   - Executing tool 1: run_terminal_cmd\n",
      "Executing tool: run_terminal_cmd with params: ['command', 'is_background']\n",
      "Working directory: output_sing/workspace\n",
      "Absolute working directory: /content/AGIBot/output_sing/workspace\n",
      "🚀 Command execution started, real-time output as follows:\n",
      "📤 Generating programmer's song...\n",
      "📤 === PROGRAMMER'S SONG ===\n",
      "📤 Code all night, debug till dawn,\n",
      "📤 Chasing bugs until they're gone,\n",
      "📤 [CHORUS]\n",
      "📤 We are the coders, the keyboard kings,\n",
      "📤 Solving problems that the world brings,\n",
      "📤 From Python scripts to C++,\n",
      "📤 We make the tech that runs your day!\n",
      "📤 Coffee strong, the screen so bright,\n",
      "📤 Fixing errors by moonlight.\n",
      "📤 [CHORUS]\n",
      "📤 We are the coders, the keyboard kings,\n",
      "📤 Solving problems that the world brings,\n",
      "📤 From Python scripts to C++,\n",
      "📤 We make the tech that runs your day!\n",
      "📤 Functions call, returns are true,\n",
      "📤 Objects do what they should do,\n",
      "📤 [CHORUS]\n",
      "📤 We are the coders, the keyboard kings,\n",
      "📤 Solving problems that the world brings,\n",
      "📤 From Python scripts to C++,\n",
      "📤 We make the tech that runs your day!\n",
      "📤 Tests all pass, the build is green,\n",
      "📤 Best damn code you've ever seen.\n",
      "📤 [CHORUS]\n",
      "📤 We are the coders, the keyboard kings,\n",
      "📤 Solving problems that the world brings,\n",
      "📤 From Python scripts to C++,\n",
      "📤 We make the tech that runs your day!\n",
      "📤 Merge requests, CI runs,\n",
      "📤 Optimizing just for funs,\n",
      "📤 [CHORUS]\n",
      "📤 We are the coders, the keyboard kings,\n",
      "📤 Solving problems that the world brings,\n",
      "📤 From Python scripts to C++,\n",
      "📤 We make the tech that runs your day!\n",
      "📤 Stack so deep, the heap so wide,\n",
      "📤 Memory leaks we must divide.\n",
      "📤 [CHORUS]\n",
      "📤 We are the coders, the keyboard kings,\n",
      "📤 Solving problems that the world brings,\n",
      "📤 From Python scripts to C++,\n",
      "📤 We make the tech that runs your day!\n",
      "📤 Agile sprints, standups too,\n",
      "📤 User stories to pursue,\n",
      "📤 [CHORUS]\n",
      "📤 We are the coders, the keyboard kings,\n",
      "📤 Solving problems that the world brings,\n",
      "📤 From Python scripts to C++,\n",
      "📤 We make the tech that runs your day!\n",
      "📤 Tech debt grows, we must confess,\n",
      "📤 But first let's merge to main, I guess.\n",
      "📤 [CHORUS]\n",
      "📤 We are the coders, the keyboard kings,\n",
      "📤 Solving problems that the world brings,\n",
      "📤 From Python scripts to C++,\n",
      "📤 We make the tech that runs your day!\n",
      "📤 [BRIDGE]\n",
      "📤 Git commit, git push,\n",
      "📤 Then the build fails - oh what a rush!\n",
      "📤 Revert the change, try once more,\n",
      "📤 This time it works - now we deploy!\n",
      "📤 [CHORUS]\n",
      "📤 We are the coders, the keyboard kings,\n",
      "📤 Solving problems that the world brings,\n",
      "📤 From Python scripts to C++,\n",
      "📤 We make the tech that runs your day!\n",
      "📤 === END OF SONG ===\n",
      "✅ Command execution completed successfully\n",
      "Status: completed\n",
      "</tool_execute>\n",
      "✅ Task round 2 execution completed\n",
      "\n",
      "📝 Task Round 2 response summary: I'll now test the Python song generator program to ensure it works as expected. I'll run the program and verify the output.\n",
      "⏳ Starting task round 3 execution...\n",
      "✅ Loaded system prompt from: prompts/system_prompt.txt\n",
      "✅ Loaded rules and tools prompts from: prompts/tool_prompt.txt, prompts/rules_prompt.txt\n",
      "🤖 Calling LLM: Task description: Write a song in python code for programmers\n",
      "🔄 Starting streaming generation...\n",
      "The Python song generator program has been successfully created and tested. It outputs a complete programmer-themed song with verses, chorus, and bridge sections, with appropriate timing between lines. The program works as expected.\n",
      "\n",
      "TASK_COMPLETED: Created and tested a Python program that generates and sings a programmer-themed song. The program includes multiple verses, a repeating chorus, and a bridge section, all with appropriate timing between lines. The song celebrates programmer culture and common development experiences.\n",
      "✅ Streaming completed\n",
      "\n",
      "📝 Response content length: 534 characters\n",
      "📊 Input history (cached) tokens: 6,635, Input new tokens: 329, Output tokens: 133\n",
      "🎉 TASK_COMPLETED flag detected in content, task completed!\n",
      "🎉 Task completion flag detected: Created and tested a Python program that generates and sings a programmer-themed song. The program includes multiple verses, a repeating chorus, and a bridge section, all with appropriate timing between lines. The song celebrates programmer culture and common development experiences.\n",
      "🎉 Task completion flag detected: Created and tested a Python program that generates and sings a programmer-themed song. The program includes multiple verses, a repeating chorus, and a bridge section, all with appropriate timing between lines. The song celebrates programmer culture and common development experiences.\n",
      "✅ Task round 3 execution completed\n",
      "\n",
      "📝 Task Round 3 response summary: ✅ Created and tested a Python program that generates and sings a programmer-themed song. The program includes multiple verses, a repeating chorus, and a bridge section, all with appropriate timing between lines. The song celebrates programmer culture and common development experiences.\n",
      "🎉 Large model determined task is completed, ending task iteration early!\n",
      "✅ Task 1 execution completed successfully\n",
      "✅ Single task execution completed successfully\n",
      "📋 Execution report saved to: output_sing/logs/single_task_report_20250625_032503.json\n",
      "📝 Human-readable report saved to: output_sing/logs/single_task_report_20250625_032503.md\n",
      "📋 Summary report generation disabled in config\n",
      "\n",
      "🎉 Task execution completed!\n",
      "📁 All output files saved at: /content/AGIBot/output_sing\n",
      "💻 Code files saved at: /content/AGIBot/output_sing/workspace\n",
      "\n",
      "🎉 Workflow completed!\n"
     ]
    }
   ],
   "source": [
    "## 🚀 Step 3: Launch AGIBot\n",
    "! python3 agibot.py \"Write a song in python code for programmers\" -d \"output_sing\"\n"
   ]
  },
  {
   "cell_type": "code",
   "execution_count": 6,
   "metadata": {
    "colab": {
     "base_uri": "https://localhost:8080/"
    },
    "executionInfo": {
     "elapsed": 79,
     "status": "ok",
     "timestamp": 1750821658024,
     "user": {
      "displayName": "吴臻志",
      "userId": "08976384057216795649"
     },
     "user_tz": -480
    },
    "id": "8MoWQOuiZ8Uq",
    "outputId": "b16bb1a0-857a-426e-f38f-028567957a10"
   },
   "outputs": [
    {
     "name": "stdout",
     "output_type": "stream",
     "text": [
      "ls: cannot access 'output_sing/workspace': No such file or directory\n"
     ]
    }
   ],
   "source": [
    "# You can find AGI Bot's output in the dir folder\n",
    "! ls -al output_sing/workspace\n"
   ]
  },
  {
   "cell_type": "code",
   "execution_count": 7,
   "metadata": {
    "colab": {
     "base_uri": "https://localhost:8080/"
    },
    "executionInfo": {
     "elapsed": 139,
     "status": "ok",
     "timestamp": 1750821658169,
     "user": {
      "displayName": "吴臻志",
      "userId": "08976384057216795649"
     },
     "user_tz": -480
    },
    "id": "DTXeGbRDZ8Ur",
    "outputId": "dd655283-abba-4d86-ac19-69c4fd6ab578"
   },
   "outputs": [
    {
     "name": "stdout",
     "output_type": "stream",
     "text": [
      "tar: output_sing/workspace: Cannot stat: No such file or directory\n",
      "tar: Exiting with failure status due to previous errors\n"
     ]
    }
   ],
   "source": [
    "# You can download this directory to your local machine. After execution, you can find the compressed file in the folder\n",
    "!tar zcvf agibotdemo.tar.gz output_sing/workspace\n"
   ]
  },
  {
   "cell_type": "markdown",
   "metadata": {
    "id": "A7yjwyga8QW9"
   },
   "source": [
    "#### More Task Examples\n",
    "    You can try more tasks, for example:\n",
    "    ! python3 main.py -r \"Scrape today's news\"\n",
    "    ! python3 main.py -r \"Create a Python calculator program\"\n",
    "    ! python3 main.py -r \"Write a PowerPoint presentation about LLM intelligent agents\"\n"
   ]
  },
  {
   "cell_type": "code",
   "execution_count": 8,
   "metadata": {
    "colab": {
     "base_uri": "https://localhost:8080/"
    },
    "executionInfo": {
     "elapsed": 2705,
     "status": "ok",
     "timestamp": 1750821660932,
     "user": {
      "displayName": "吴臻志",
      "userId": "08976384057216795649"
     },
     "user_tz": -480
    },
    "id": "z-TH2D-cZ8Ut",
    "outputId": "e331075a-7d62-4001-e779-26cb6c00576e"
   },
   "outputs": [
    {
     "name": "stdout",
     "output_type": "stream",
     "text": [
      "Program execution error: API key not found. Please provide api_key parameter or set it in config.txt\n"
     ]
    }
   ],
   "source": [
    "! python3 main.py -r \"Scrape today's news\""
   ]
  }
 ],
 "metadata": {
  "colab": {
   "provenance": []
  },
  "kernelspec": {
   "display_name": "Python 3",
   "name": "python3"
  },
  "language_info": {
   "name": "python"
  }
 },
 "nbformat": 4,
 "nbformat_minor": 0
}
