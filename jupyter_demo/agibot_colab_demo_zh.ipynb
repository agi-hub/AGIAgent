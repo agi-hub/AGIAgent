{
 "cells": [
  {
   "cell_type": "markdown",
   "metadata": {
    "id": "oRh_VtNUGmqY"
   },
   "source": [
    "\n",
    "# 🤖 AGIBot - AI驱动的自主任务执行系统\n",
    "\n",
    "本Notebook用于在Google Colab环境中试用AGIBot软件。\n",
    "\n",
    "**AGIBot** 是一个AI驱动的智能代码生成和自主任务执行系统，能够自动分解复杂任务,通过多轮迭代和工具调用来完成它们。"
   ]
  },
  {
   "cell_type": "code",
   "execution_count": 68,
   "metadata": {
    "colab": {
     "base_uri": "https://localhost:8080/"
    },
    "collapsed": true,
    "executionInfo": {
     "elapsed": 6250,
     "status": "ok",
     "timestamp": 1750752094799,
     "user": {
      "displayName": "吴臻志",
      "userId": "08976384057216795649"
     },
     "user_tz": -480
    },
    "id": "NmNxigd7DLO9",
    "outputId": "a7de7f71-1fdf-4093-ecf0-f444caf0952d"
   },
   "outputs": [
    {
     "name": "stdout",
     "output_type": "stream",
     "text": [
      "Cloning into 'AGIBot'...\n",
      "remote: Enumerating objects: 212, done.\u001b[K\n",
      "remote: Counting objects: 100% (212/212), done.\u001b[K\n",
      "remote: Compressing objects: 100% (140/140), done.\u001b[K\n",
      "remote: Total 212 (delta 126), reused 154 (delta 68), pack-reused 0 (from 0)\u001b[K\n",
      "Receiving objects: 100% (212/212), 1.06 MiB | 12.83 MiB/s, done.\n",
      "Resolving deltas: 100% (126/126), done.\n",
      "Requirement already satisfied: requests>=2.20.0 in /usr/local/lib/python3.11/dist-packages (from -r requirements.txt (line 1)) (2.32.3)\n",
      "Requirement already satisfied: openai>=1.0.0 in /usr/local/lib/python3.11/dist-packages (from -r requirements.txt (line 2)) (1.86.0)\n",
      "Requirement already satisfied: anthropic>=0.3.0 in /usr/local/lib/python3.11/dist-packages (from -r requirements.txt (line 3)) (0.55.0)\n",
      "Requirement already satisfied: numpy>=1.18.0 in /usr/local/lib/python3.11/dist-packages (from -r requirements.txt (line 4)) (2.0.2)\n",
      "Requirement already satisfied: scikit-learn>=0.22.0 in /usr/local/lib/python3.11/dist-packages (from -r requirements.txt (line 6)) (1.6.1)\n",
      "Requirement already satisfied: jieba>=0.35.0 in /usr/local/lib/python3.11/dist-packages (from -r requirements.txt (line 7)) (0.42.1)\n",
      "Requirement already satisfied: playwright>=1.20.0 in /usr/local/lib/python3.11/dist-packages (from -r requirements.txt (line 8)) (1.52.0)\n",
      "Requirement already satisfied: tqdm>=4.30.0 in /usr/local/lib/python3.11/dist-packages (from -r requirements.txt (line 9)) (4.67.1)\n",
      "Requirement already satisfied: pandoc>=2.0.0 in /usr/local/lib/python3.11/dist-packages (from -r requirements.txt (line 10)) (2.4)\n",
      "Requirement already satisfied: flask>=2.0.0 in /usr/local/lib/python3.11/dist-packages (from -r requirements.txt (line 13)) (3.1.1)\n",
      "Requirement already satisfied: flask-socketio>=5.0.0 in /usr/local/lib/python3.11/dist-packages (from -r requirements.txt (line 14)) (5.5.1)\n",
      "Requirement already satisfied: eventlet>=0.30.0 in /usr/local/lib/python3.11/dist-packages (from -r requirements.txt (line 15)) (0.40.0)\n",
      "Requirement already satisfied: charset-normalizer<4,>=2 in /usr/local/lib/python3.11/dist-packages (from requests>=2.20.0->-r requirements.txt (line 1)) (3.4.2)\n",
      "Requirement already satisfied: idna<4,>=2.5 in /usr/local/lib/python3.11/dist-packages (from requests>=2.20.0->-r requirements.txt (line 1)) (3.10)\n",
      "Requirement already satisfied: urllib3<3,>=1.21.1 in /usr/local/lib/python3.11/dist-packages (from requests>=2.20.0->-r requirements.txt (line 1)) (2.4.0)\n",
      "Requirement already satisfied: certifi>=2017.4.17 in /usr/local/lib/python3.11/dist-packages (from requests>=2.20.0->-r requirements.txt (line 1)) (2025.6.15)\n",
      "Requirement already satisfied: anyio<5,>=3.5.0 in /usr/local/lib/python3.11/dist-packages (from openai>=1.0.0->-r requirements.txt (line 2)) (4.9.0)\n",
      "Requirement already satisfied: distro<2,>=1.7.0 in /usr/local/lib/python3.11/dist-packages (from openai>=1.0.0->-r requirements.txt (line 2)) (1.9.0)\n",
      "Requirement already satisfied: httpx<1,>=0.23.0 in /usr/local/lib/python3.11/dist-packages (from openai>=1.0.0->-r requirements.txt (line 2)) (0.28.1)\n",
      "Requirement already satisfied: jiter<1,>=0.4.0 in /usr/local/lib/python3.11/dist-packages (from openai>=1.0.0->-r requirements.txt (line 2)) (0.10.0)\n",
      "Requirement already satisfied: pydantic<3,>=1.9.0 in /usr/local/lib/python3.11/dist-packages (from openai>=1.0.0->-r requirements.txt (line 2)) (2.11.7)\n",
      "Requirement already satisfied: sniffio in /usr/local/lib/python3.11/dist-packages (from openai>=1.0.0->-r requirements.txt (line 2)) (1.3.1)\n",
      "Requirement already satisfied: typing-extensions<5,>=4.11 in /usr/local/lib/python3.11/dist-packages (from openai>=1.0.0->-r requirements.txt (line 2)) (4.14.0)\n",
      "Requirement already satisfied: scipy>=1.6.0 in /usr/local/lib/python3.11/dist-packages (from scikit-learn>=0.22.0->-r requirements.txt (line 6)) (1.15.3)\n",
      "Requirement already satisfied: joblib>=1.2.0 in /usr/local/lib/python3.11/dist-packages (from scikit-learn>=0.22.0->-r requirements.txt (line 6)) (1.5.1)\n",
      "Requirement already satisfied: threadpoolctl>=3.1.0 in /usr/local/lib/python3.11/dist-packages (from scikit-learn>=0.22.0->-r requirements.txt (line 6)) (3.6.0)\n",
      "Requirement already satisfied: pyee<14,>=13 in /usr/local/lib/python3.11/dist-packages (from playwright>=1.20.0->-r requirements.txt (line 8)) (13.0.0)\n",
      "Requirement already satisfied: greenlet<4.0.0,>=3.1.1 in /usr/local/lib/python3.11/dist-packages (from playwright>=1.20.0->-r requirements.txt (line 8)) (3.2.3)\n",
      "Requirement already satisfied: plumbum in /usr/local/lib/python3.11/dist-packages (from pandoc>=2.0.0->-r requirements.txt (line 10)) (1.9.0)\n",
      "Requirement already satisfied: ply in /usr/local/lib/python3.11/dist-packages (from pandoc>=2.0.0->-r requirements.txt (line 10)) (3.11)\n",
      "Requirement already satisfied: blinker>=1.9.0 in /usr/local/lib/python3.11/dist-packages (from flask>=2.0.0->-r requirements.txt (line 13)) (1.9.0)\n",
      "Requirement already satisfied: click>=8.1.3 in /usr/local/lib/python3.11/dist-packages (from flask>=2.0.0->-r requirements.txt (line 13)) (8.2.1)\n",
      "Requirement already satisfied: itsdangerous>=2.2.0 in /usr/local/lib/python3.11/dist-packages (from flask>=2.0.0->-r requirements.txt (line 13)) (2.2.0)\n",
      "Requirement already satisfied: jinja2>=3.1.2 in /usr/local/lib/python3.11/dist-packages (from flask>=2.0.0->-r requirements.txt (line 13)) (3.1.6)\n",
      "Requirement already satisfied: markupsafe>=2.1.1 in /usr/local/lib/python3.11/dist-packages (from flask>=2.0.0->-r requirements.txt (line 13)) (3.0.2)\n",
      "Requirement already satisfied: werkzeug>=3.1.0 in /usr/local/lib/python3.11/dist-packages (from flask>=2.0.0->-r requirements.txt (line 13)) (3.1.3)\n",
      "Requirement already satisfied: python-socketio>=5.12.0 in /usr/local/lib/python3.11/dist-packages (from flask-socketio>=5.0.0->-r requirements.txt (line 14)) (5.13.0)\n",
      "Requirement already satisfied: dnspython>=1.15.0 in /usr/local/lib/python3.11/dist-packages (from eventlet>=0.30.0->-r requirements.txt (line 15)) (2.7.0)\n",
      "Requirement already satisfied: httpcore==1.* in /usr/local/lib/python3.11/dist-packages (from httpx<1,>=0.23.0->openai>=1.0.0->-r requirements.txt (line 2)) (1.0.9)\n",
      "Requirement already satisfied: h11>=0.16 in /usr/local/lib/python3.11/dist-packages (from httpcore==1.*->httpx<1,>=0.23.0->openai>=1.0.0->-r requirements.txt (line 2)) (0.16.0)\n",
      "Requirement already satisfied: annotated-types>=0.6.0 in /usr/local/lib/python3.11/dist-packages (from pydantic<3,>=1.9.0->openai>=1.0.0->-r requirements.txt (line 2)) (0.7.0)\n",
      "Requirement already satisfied: pydantic-core==2.33.2 in /usr/local/lib/python3.11/dist-packages (from pydantic<3,>=1.9.0->openai>=1.0.0->-r requirements.txt (line 2)) (2.33.2)\n",
      "Requirement already satisfied: typing-inspection>=0.4.0 in /usr/local/lib/python3.11/dist-packages (from pydantic<3,>=1.9.0->openai>=1.0.0->-r requirements.txt (line 2)) (0.4.1)\n",
      "Requirement already satisfied: bidict>=0.21.0 in /usr/local/lib/python3.11/dist-packages (from python-socketio>=5.12.0->flask-socketio>=5.0.0->-r requirements.txt (line 14)) (0.23.1)\n",
      "Requirement already satisfied: python-engineio>=4.11.0 in /usr/local/lib/python3.11/dist-packages (from python-socketio>=5.12.0->flask-socketio>=5.0.0->-r requirements.txt (line 14)) (4.12.2)\n",
      "Requirement already satisfied: simple-websocket>=0.10.0 in /usr/local/lib/python3.11/dist-packages (from python-engineio>=4.11.0->python-socketio>=5.12.0->flask-socketio>=5.0.0->-r requirements.txt (line 14)) (1.1.0)\n",
      "Requirement already satisfied: wsproto in /usr/local/lib/python3.11/dist-packages (from simple-websocket>=0.10.0->python-engineio>=4.11.0->python-socketio>=5.12.0->flask-socketio>=5.0.0->-r requirements.txt (line 14)) (1.2.0)\n"
     ]
    }
   ],
   "source": [
    "# 克隆AGIBot项目\n",
    "import os\n",
    "os.chdir('/content')\n",
    "\n",
    "!git clone https://github.com/agi-hub/AGIBot.git\n",
    "\n",
    "# 切换到项目目录并安装依赖\n",
    "os.chdir('AGIBot')\n",
    "!pip install -r requirements.txt"
   ]
  },
  {
   "cell_type": "code",
   "execution_count": 69,
   "metadata": {
    "colab": {
     "base_uri": "https://localhost:8080/"
    },
    "collapsed": true,
    "executionInfo": {
     "elapsed": 13514,
     "status": "ok",
     "timestamp": 1750752108316,
     "user": {
      "displayName": "吴臻志",
      "userId": "08976384057216795649"
     },
     "user_tz": -480
    },
    "id": "F2Et4oc7jXDz",
    "outputId": "1c9b5878-3009-4544-d2d4-a413d93d30c5"
   },
   "outputs": [
    {
     "name": "stdout",
     "output_type": "stream",
     "text": [
      "W: Skipping acquire of configured file 'main/source/Sources' as repository 'https://r2u.stat.illinois.edu/ubuntu jammy InRelease' does not seem to provide it (sources.list entry misspelt?)\n",
      "\n",
      "WARNING: apt does not have a stable CLI interface. Use with caution in scripts.\n",
      "\n"
     ]
    }
   ],
   "source": [
    "!playwright install-deps > NULL\n",
    "!playwright install chromium > NULL\n",
    "!apt install pandoc > NULL"
   ]
  },
  {
   "cell_type": "code",
   "execution_count": 71,
   "metadata": {
    "executionInfo": {
     "elapsed": 98,
     "status": "ok",
     "timestamp": 1750752108501,
     "user": {
      "displayName": "吴臻志",
      "userId": "08976384057216795649"
     },
     "user_tz": -480
    },
    "id": "MZIWZ4k88H-0"
   },
   "outputs": [],
   "source": [
    "!sed -i -e 's/^LANG=en$/# LANG=en/' -e 's/^# LANG=zh$/LANG=zh/' config/config.txt"
   ]
  },
  {
   "cell_type": "markdown",
   "metadata": {
    "id": "9_zgksx2G88Z"
   },
   "source": [
    "注意：如果您有其他密钥，请打开左侧的文件夹，找到并双击AGIBot/config/config.txt文件，配置API Key, API Base及Max Tokens等选项。请注意反注释对应的选项，并注释掉默认的deepseek-chat。"
   ]
  },
  {
   "cell_type": "code",
   "execution_count": 72,
   "metadata": {
    "colab": {
     "base_uri": "https://localhost:8080/"
    },
    "collapsed": true,
    "executionInfo": {
     "elapsed": 58870,
     "status": "ok",
     "timestamp": 1750752167373,
     "user": {
      "displayName": "吴臻志",
      "userId": "08976384057216795649"
     },
     "user_tz": -480
    },
    "id": "K97EC80FDLPC",
    "outputId": "27fced4b-4727-4abd-ebfd-ba70c2619884"
   },
   "outputs": [
    {
     "name": "stdout",
     "output_type": "stream",
     "text": [
      "📁 Project: /content/AGIBot/output_sing\n",
      "Received user requirement: write a pythonic song for programmers\n",
      "📁 Workspace directory created: output_sing/workspace\n",
      "\rProcessing files: 0it [00:00, ?it/s]\rProcessing files: 0it [00:00, ?it/s]\n",
      "🔧 DEBUG: TerminalTools initialized with workspace_root: output_sing/workspace\n",
      "📁 Created web search result directory: output_sing/workspace/web_search_result\n",
      "🤖 LLM features enabled with model deepseek-chat: search results summarization\n",
      "🚀 Starting task execution (25 rounds max)\n",
      "📋 Starting task execution [1/1] - Task1: User Requirement Execution\n",
      "⏳ Starting task round 1 execution...\n",
      "✅ Loaded system prompt from: prompts/system_prompt.txt\n",
      "✅ Loaded rules and tools prompts from: prompts/tool_prompt.txt, prompts/rules_prompt.txt\n",
      "🤖 Calling LLM: Task description: write a pythonic song for programmers\n",
      "🔄 Starting streaming generation...\n",
      "我将为程序员创作一首Python风格的歌曲。由于这是一个创意写作任务，不需要使用工具调用，我将直接创作内容。\n",
      "\n",
      "《Pythonic Coder's Anthem》歌词：\n",
      "\n",
      "[Verse 1]\n",
      "print(\"Hello World\")  # 我的第一行代码\n",
      "缩进是优雅的诗句  # 四个空格的美\n",
      "while True循环着  # 永不停歇的梦\n",
      "try except捕获  # 人生的异常处理\n",
      "\n",
      "[Chorus]\n",
      "我是Pythonic的诗人\n",
      "用代码谱写青春\n",
      "lambda短小精悍\n",
      "yield生成器般的人生\n",
      "OOP是我的信仰\n",
      "import所有的可能\n",
      "# 注释掉所有忧伤\n",
      "debug出完美人生\n",
      "\n",
      "[Verse 2]\n",
      "list.append(回忆)  # 动态增长的记忆\n",
      "dict存储着  # 键值对的悲喜\n",
      "with open('心') as f  # 上下文管理器\n",
      "json.dumps(爱)  # 序列化成永恒\n",
      "\n",
      "[Bridge]\n",
      "@decorator装饰时光\n",
      "async await异步远方\n",
      "多线程并发的理想\n",
      "GIL锁不住向往\n",
      "\n",
      "[Outro]\n",
      "pip install未来\n",
      "requirements.txt写下期待\n",
      "git commit这一刻\n",
      "push到星辰大海\n",
      "\n",
      "这首歌融合了：\n",
      "1. Python语法元素作为歌词主体\n",
      "2. 程序员日常工作的隐喻\n",
      "3. 代码注释风格的旁白\n",
      "4. 编程概念与人生的类比\n",
      "5. 典型的Python特性展示\n",
      "\n",
      "需要我将这首歌保存为文件吗？或者您希望进行任何修改？\n",
      "✅ Streaming completed\n",
      "\n",
      "📝 Response content length: 644 characters\n",
      "📊 Input history (cached) tokens: 0, Input new tokens: 5,848, Output tokens: 429\n",
      "📝 No tool calls found, returning LLM response\n",
      "✅ Task round 1 execution completed\n",
      "\n",
      "📝 Task Round 1 response summary: 我将为程序员创作一首Python风格的歌曲。由于这是一个创意写作任务，不需要使用工具调用，我将直接创作内容。\n",
      "⏳ Starting task round 2 execution...\n",
      "✅ Loaded system prompt from: prompts/system_prompt.txt\n",
      "✅ Loaded rules and tools prompts from: prompts/tool_prompt.txt, prompts/rules_prompt.txt\n",
      "🤖 Calling LLM: Task description: write a pythonic song for programmers\n",
      "🔄 Starting streaming generation...\n",
      "我将把创作的Python程序员歌曲保存为Markdown文件，方便查看和分享。\n",
      "\n",
      "<function_calls>\n",
      "<invoke name=\"edit_file\">\n",
      "<parameter name=\"target_file\">pythonic_song.md</parameter>\n",
      "<parameter name=\"instructions\">将Python风格程序员歌曲保存为Markdown文件</parameter>\n",
      "<parameter name=\"code_edit\"># Pythonic Coder's Anthem\n",
      "\n",
      "《Python程序员之歌》\n",
      "\n",
      "```python\n",
      "[Verse 1]\n",
      "print(\"Hello World\")  # 我的第一行代码\n",
      "缩进是优雅的诗句  # 四个空格的美\n",
      "while True循环着  # 永不停歇的梦\n",
      "try except捕获  # 人生的异常处理\n",
      "\n",
      "[Chorus]\n",
      "我是Pythonic的诗人\n",
      "用代码谱写青春\n",
      "lambda短小精悍\n",
      "yield生成器般的人生\n",
      "OOP是我的信仰\n",
      "import所有的可能\n",
      "# 注释掉所有忧伤\n",
      "debug出完美人生\n",
      "\n",
      "[Verse 2]\n",
      "list.append(回忆)  # 动态增长的记忆\n",
      "dict存储着  # 键值对的悲喜\n",
      "with open('心') as f  # 上下文管理器\n",
      "json.dumps(爱)  # 序列化成永恒\n",
      "\n",
      "[Bridge]\n",
      "@decorator装饰时光\n",
      "async await异步远方\n",
      "多线程并发的理想\n",
      "GIL锁不住向往\n",
      "\n",
      "[Outro]\n",
      "pip install未来\n",
      "requirements.txt写下期待\n",
      "git commit这一刻\n",
      "push到星辰大海\n",
      "```\n",
      "\n",
      "## 歌曲特点\n",
      "1. 使用Python语法作为歌词主体\n",
      "2. 包含程序员工作隐喻\n",
      "3. 采用代码注释风格的旁白\n",
      "4. 编程概念与人生的类比\n",
      "5. 展示Python核心特性\n",
      "6. 中英混合的专业表达</parameter>\n",
      "<parameter name=\"append_mode\">false</parameter>\n",
      "</invoke>\n",
      "</function_calls>\n",
      "\n",
      "TASK_COMPLETED: 已成功创作并保存Python程序员主题歌曲《Pythonic Coder's Anthem》到pythonic_song.md文件\n",
      "✅ Streaming completed\n",
      "\n",
      "📝 Response content length: 1012 characters\n",
      "📊 Input history (cached) tokens: 2,873, Input new tokens: 329, Output tokens: 289\n",
      "⚠️ CONFLICT DETECTED: Both tool calls and TASK_COMPLETED flag found!\n",
      "🔧 Prioritizing tool execution. Removing TASK_COMPLETED flag to continue operation.\n",
      "🔧 Found 1 tool calls, starting execution...\n",
      "<tool_execute tool_name=\"edit_file\" tool_number=\"1\">\n",
      "   - Executing tool 1: edit_file\n",
      "Executing tool: edit_file with params: ['target_file', 'instructions', 'code_edit', 'append_mode']\n",
      "Editing file: pythonic_song.md\n",
      "Instructions: 将Python风格程序员歌曲保存为Markdown文件\n",
      "Status: created\n",
      "File: pythonic_song.md\n",
      "</tool_execute>\n",
      "✅ Task round 2 execution completed\n",
      "Building prefix dict from the default dictionary ...\n",
      "DEBUG:jieba:Building prefix dict from the default dictionary ...\n",
      "Loading model from cache /tmp/jieba.cache\n",
      "DEBUG:jieba:Loading model from cache /tmp/jieba.cache\n",
      "Loading model cost 1.093 seconds.\n",
      "DEBUG:jieba:Loading model cost 1.093 seconds.\n",
      "Prefix dict has been built successfully.\n",
      "DEBUG:jieba:Prefix dict has been built successfully.\n",
      "\n",
      "📝 Task Round 2 response summary: 我将把创作的Python程序员歌曲保存为Markdown文件，方便查看和分享。\n",
      "⏳ Starting task round 3 execution...\n",
      "✅ Loaded system prompt from: prompts/system_prompt.txt\n",
      "✅ Loaded rules and tools prompts from: prompts/tool_prompt.txt, prompts/rules_prompt.txt\n",
      "🤖 Calling LLM: Task description: write a pythonic song for programmers\n",
      "🔄 Starting streaming generation...\n",
      "TASK_COMPLETED: 已成功创作并保存Python程序员风格歌曲《Pythonic Coder's Anthem》到pythonic_song.md文件，包含完整的歌词和特点说明。\n",
      "✅ Streaming completed\n",
      "\n",
      "📝 Response content length: 95 characters\n",
      "📊 Input history (cached) tokens: 5,590, Input new tokens: 329, Output tokens: 63\n",
      "🎉 TASK_COMPLETED flag detected in content, task completed!\n",
      "🎉 Task completion flag detected: 已成功创作并保存Python程序员风格歌曲《Pythonic Coder's Anthem》到pythonic_song.md文件，包含完整的歌词和特点说明。\n",
      "🎉 Task completion flag detected: 已成功创作并保存Python程序员风格歌曲《Pythonic Coder's Anthem》到pythonic_song.md文件，包含完整的歌词和特点说明。\n",
      "✅ Task round 3 execution completed\n",
      "\n",
      "📝 Task Round 3 response summary: ✅ 已成功创作并保存Python程序员风格歌曲《Pythonic Coder's Anthem》到pythonic_song.md文件，包含完整的歌词和特点说明。\n",
      "🎉 Large model determined task is completed, ending task iteration early!\n",
      "✅ Task 1 execution completed successfully\n",
      "✅ Single task execution completed successfully\n",
      "📋 Execution report saved to: output_sing/logs/single_task_report_20250624_080247.json\n",
      "📝 Human-readable report saved to: output_sing/logs/single_task_report_20250624_080247.md\n",
      "📋 Summary report generation disabled in config\n",
      "\n",
      "🎉 Task execution completed!\n",
      "📁 All output files saved at: /content/AGIBot/output_sing\n",
      "💻 Code files saved at: /content/AGIBot/output_sing/workspace\n",
      "\n",
      "🎉 Workflow completed!\n"
     ]
    }
   ],
   "source": [
    "## 🚀 启动AGIBot\n",
    "! python3 agibot.py \"Write a song in python code for programmers\" -d \"output_sing\""
   ]
  },
  {
   "cell_type": "code",
   "execution_count": 73,
   "metadata": {
    "colab": {
     "base_uri": "https://localhost:8080/"
    },
    "executionInfo": {
     "elapsed": 104,
     "status": "ok",
     "timestamp": 1750752167483,
     "user": {
      "displayName": "吴臻志",
      "userId": "08976384057216795649"
     },
     "user_tz": -480
    },
    "id": "LLQ-fCmOIlta",
    "outputId": "6505d8c6-5297-4af9-8acf-4a78e664ef68"
   },
   "outputs": [
    {
     "name": "stdout",
     "output_type": "stream",
     "text": [
      "total 16\n",
      "drwxr-xr-x 3 root root 4096 Jun 24 08:02 .\n",
      "drwxr-xr-x 4 root root 4096 Jun 24 08:01 ..\n",
      "-rw-r--r-- 1 root root 1033 Jun 24 08:02 pythonic_song.md\n",
      "drwxr-xr-x 2 root root 4096 Jun 24 08:01 web_search_result\n"
     ]
    }
   ],
   "source": [
    "#您可以从dir文件夹中找到AGI Bot的输出物\n",
    "! ls -al output_sing/workspace"
   ]
  },
  {
   "cell_type": "code",
   "execution_count": 74,
   "metadata": {
    "colab": {
     "base_uri": "https://localhost:8080/"
    },
    "executionInfo": {
     "elapsed": 102,
     "status": "ok",
     "timestamp": 1750752167587,
     "user": {
      "displayName": "吴臻志",
      "userId": "08976384057216795649"
     },
     "user_tz": -480
    },
    "id": "l86Is-2GJJdp",
    "outputId": "8130a041-6514-4d32-bb7a-971fb23ffca3"
   },
   "outputs": [
    {
     "name": "stdout",
     "output_type": "stream",
     "text": [
      "output_sing/\n",
      "output_sing/workspace/\n",
      "output_sing/workspace/web_search_result/\n",
      "output_sing/workspace/pythonic_song.md\n",
      "output_sing/logs/\n",
      "output_sing/logs/single_task_report_20250624_080247.md\n",
      "output_sing/logs/single_task_report_20250624_080247.json\n"
     ]
    }
   ],
   "source": [
    "#您可以下载这个目录到本地,执行完毕后从文件夹里可以找到压缩包\n",
    "!tar zcvf agibotdemo.tar.gz output_sing"
   ]
  },
  {
   "cell_type": "markdown",
   "metadata": {
    "id": "tUUChePPH1vw"
   },
   "source": [
    "####   更多任务尝试\n",
    "    您可以执行更多任务进行尝试，例如：\n",
    "    ! python3 main.py -r \"抓取一下今天的新闻\"\n",
    "    ! python3 main.py -r \"创建一个Python计算器程序\"\n",
    "    ! python3 main.py -r \"写一个大模型智能体介绍的ppt\"\n",
    "  \n",
    "    \n",
    "    "
   ]
  },
  {
   "cell_type": "code",
   "execution_count": null,
   "metadata": {
    "id": "t4h-5gnv-Tbb"
   },
   "outputs": [],
   "source": []
  }
 ],
 "metadata": {
  "colab": {
   "provenance": []
  },
  "kernelspec": {
   "display_name": "Python 3",
   "name": "python3"
  },
  "language_info": {
   "name": "python"
  }
 },
 "nbformat": 4,
 "nbformat_minor": 0
}
