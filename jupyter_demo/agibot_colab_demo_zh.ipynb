{
  "cells": [
    {
      "cell_type": "markdown",
      "metadata": {
        "id": "oRh_VtNUGmqY"
      },
      "source": [
        "\n",
        "# 🤖 AGIBot - AI驱动的自主任务执行系统\n",
        "\n",
        "本Notebook用于在Google Colab环境中试用AGIBot软件。\n",
        "\n",
        "**AGIBot** 是一个AI驱动的智能代码生成和自主任务执行系统，能够自动分解复杂任务,通过多轮迭代和工具调用来完成它们。"
      ]
    },
    {
      "cell_type": "code",
      "execution_count": 11,
      "metadata": {
        "colab": {
          "base_uri": "https://localhost:8080/"
        },
        "id": "NmNxigd7DLO9",
        "outputId": "442d65e6-9313-4152-ad44-4bbbc9cf10ee"
      },
      "outputs": [
        {
          "name": "stdout",
          "output_type": "stream",
          "text": [
            "Cloning into 'AGIBot'...\n",
            "remote: Enumerating objects: 50, done.\u001b[K\n",
            "remote: Counting objects: 100% (50/50), done.\u001b[K\n",
            "remote: Compressing objects: 100% (42/42), done.\u001b[K\n",
            "remote: Total 50 (delta 5), reused 50 (delta 5), pack-reused 0 (from 0)\u001b[K\n",
            "Receiving objects: 100% (50/50), 659.32 KiB | 2.08 MiB/s, done.\n",
            "Resolving deltas: 100% (5/5), done.\n",
            "Requirement already satisfied: selenium in /usr/local/lib/python3.11/dist-packages (4.33.0)\n",
            "Requirement already satisfied: urllib3~=2.4.0 in /usr/local/lib/python3.11/dist-packages (from urllib3[socks]~=2.4.0->selenium) (2.4.0)\n",
            "Requirement already satisfied: trio~=0.30.0 in /usr/local/lib/python3.11/dist-packages (from selenium) (0.30.0)\n",
            "Requirement already satisfied: trio-websocket~=0.12.2 in /usr/local/lib/python3.11/dist-packages (from selenium) (0.12.2)\n",
            "Requirement already satisfied: certifi>=2025.4.26 in /usr/local/lib/python3.11/dist-packages (from selenium) (2025.4.26)\n",
            "Requirement already satisfied: typing_extensions~=4.13.2 in /usr/local/lib/python3.11/dist-packages (from selenium) (4.13.2)\n",
            "Requirement already satisfied: websocket-client~=1.8.0 in /usr/local/lib/python3.11/dist-packages (from selenium) (1.8.0)\n",
            "Requirement already satisfied: attrs>=23.2.0 in /usr/local/lib/python3.11/dist-packages (from trio~=0.30.0->selenium) (25.3.0)\n",
            "Requirement already satisfied: sortedcontainers in /usr/local/lib/python3.11/dist-packages (from trio~=0.30.0->selenium) (2.4.0)\n",
            "Requirement already satisfied: idna in /usr/local/lib/python3.11/dist-packages (from trio~=0.30.0->selenium) (3.10)\n",
            "Requirement already satisfied: outcome in /usr/local/lib/python3.11/dist-packages (from trio~=0.30.0->selenium) (1.3.0.post0)\n",
            "Requirement already satisfied: sniffio>=1.3.0 in /usr/local/lib/python3.11/dist-packages (from trio~=0.30.0->selenium) (1.3.1)\n",
            "Requirement already satisfied: wsproto>=0.14 in /usr/local/lib/python3.11/dist-packages (from trio-websocket~=0.12.2->selenium) (1.2.0)\n",
            "Requirement already satisfied: pysocks!=1.5.7,<2.0,>=1.5.6 in /usr/local/lib/python3.11/dist-packages (from urllib3[socks]~=2.4.0->selenium) (1.7.1)\n",
            "Requirement already satisfied: h11<1,>=0.9.0 in /usr/local/lib/python3.11/dist-packages (from wsproto>=0.14->trio-websocket~=0.12.2->selenium) (0.16.0)\n",
            "Requirement already satisfied: requests>=2.20.0 in /usr/local/lib/python3.11/dist-packages (from -r requirements.txt (line 1)) (2.32.3)\n",
            "Requirement already satisfied: openai>=1.0.0 in /usr/local/lib/python3.11/dist-packages (from -r requirements.txt (line 2)) (1.86.0)\n",
            "Collecting anthropic>=0.3.0 (from -r requirements.txt (line 3))\n",
            "  Downloading anthropic-0.54.0-py3-none-any.whl.metadata (25 kB)\n",
            "Requirement already satisfied: numpy>=1.18.0 in /usr/local/lib/python3.11/dist-packages (from -r requirements.txt (line 4)) (2.0.2)\n",
            "Requirement already satisfied: scikit-learn>=0.22.0 in /usr/local/lib/python3.11/dist-packages (from -r requirements.txt (line 6)) (1.6.1)\n",
            "Requirement already satisfied: jieba>=0.35.0 in /usr/local/lib/python3.11/dist-packages (from -r requirements.txt (line 7)) (0.42.1)\n",
            "Requirement already satisfied: playwright>=1.20.0 in /usr/local/lib/python3.11/dist-packages (from -r requirements.txt (line 8)) (1.52.0)\n",
            "Requirement already satisfied: tqdm>=4.30.0 in /usr/local/lib/python3.11/dist-packages (from -r requirements.txt (line 9)) (4.67.1)\n",
            "Collecting pandoc>=2.0.0 (from -r requirements.txt (line 10))\n",
            "  Downloading pandoc-2.4.tar.gz (34 kB)\n",
            "  Preparing metadata (setup.py) ... \u001b[?25l\u001b[?25hdone\n",
            "Requirement already satisfied: flask>=2.0.0 in /usr/local/lib/python3.11/dist-packages (from -r requirements.txt (line 13)) (3.1.1)\n",
            "Collecting flask-socketio>=5.0.0 (from -r requirements.txt (line 14))\n",
            "  Downloading Flask_SocketIO-5.5.1-py3-none-any.whl.metadata (2.6 kB)\n",
            "Collecting eventlet>=0.30.0 (from -r requirements.txt (line 15))\n",
            "  Downloading eventlet-0.40.0-py3-none-any.whl.metadata (5.4 kB)\n",
            "Requirement already satisfied: charset-normalizer<4,>=2 in /usr/local/lib/python3.11/dist-packages (from requests>=2.20.0->-r requirements.txt (line 1)) (3.4.2)\n",
            "Requirement already satisfied: idna<4,>=2.5 in /usr/local/lib/python3.11/dist-packages (from requests>=2.20.0->-r requirements.txt (line 1)) (3.10)\n",
            "Requirement already satisfied: urllib3<3,>=1.21.1 in /usr/local/lib/python3.11/dist-packages (from requests>=2.20.0->-r requirements.txt (line 1)) (2.4.0)\n",
            "Requirement already satisfied: certifi>=2017.4.17 in /usr/local/lib/python3.11/dist-packages (from requests>=2.20.0->-r requirements.txt (line 1)) (2025.4.26)\n",
            "Requirement already satisfied: anyio<5,>=3.5.0 in /usr/local/lib/python3.11/dist-packages (from openai>=1.0.0->-r requirements.txt (line 2)) (4.9.0)\n",
            "Requirement already satisfied: distro<2,>=1.7.0 in /usr/local/lib/python3.11/dist-packages (from openai>=1.0.0->-r requirements.txt (line 2)) (1.9.0)\n",
            "Requirement already satisfied: httpx<1,>=0.23.0 in /usr/local/lib/python3.11/dist-packages (from openai>=1.0.0->-r requirements.txt (line 2)) (0.28.1)\n",
            "Requirement already satisfied: jiter<1,>=0.4.0 in /usr/local/lib/python3.11/dist-packages (from openai>=1.0.0->-r requirements.txt (line 2)) (0.10.0)\n",
            "Requirement already satisfied: pydantic<3,>=1.9.0 in /usr/local/lib/python3.11/dist-packages (from openai>=1.0.0->-r requirements.txt (line 2)) (2.11.5)\n",
            "Requirement already satisfied: sniffio in /usr/local/lib/python3.11/dist-packages (from openai>=1.0.0->-r requirements.txt (line 2)) (1.3.1)\n",
            "Requirement already satisfied: typing-extensions<5,>=4.11 in /usr/local/lib/python3.11/dist-packages (from openai>=1.0.0->-r requirements.txt (line 2)) (4.13.2)\n",
            "Requirement already satisfied: scipy>=1.6.0 in /usr/local/lib/python3.11/dist-packages (from scikit-learn>=0.22.0->-r requirements.txt (line 6)) (1.15.3)\n",
            "Requirement already satisfied: joblib>=1.2.0 in /usr/local/lib/python3.11/dist-packages (from scikit-learn>=0.22.0->-r requirements.txt (line 6)) (1.5.1)\n",
            "Requirement already satisfied: threadpoolctl>=3.1.0 in /usr/local/lib/python3.11/dist-packages (from scikit-learn>=0.22.0->-r requirements.txt (line 6)) (3.6.0)\n",
            "Requirement already satisfied: pyee<14,>=13 in /usr/local/lib/python3.11/dist-packages (from playwright>=1.20.0->-r requirements.txt (line 8)) (13.0.0)\n",
            "Requirement already satisfied: greenlet<4.0.0,>=3.1.1 in /usr/local/lib/python3.11/dist-packages (from playwright>=1.20.0->-r requirements.txt (line 8)) (3.2.3)\n",
            "Collecting plumbum (from pandoc>=2.0.0->-r requirements.txt (line 10))\n",
            "  Downloading plumbum-1.9.0-py3-none-any.whl.metadata (10 kB)\n",
            "Requirement already satisfied: ply in /usr/local/lib/python3.11/dist-packages (from pandoc>=2.0.0->-r requirements.txt (line 10)) (3.11)\n",
            "Requirement already satisfied: blinker>=1.9.0 in /usr/local/lib/python3.11/dist-packages (from flask>=2.0.0->-r requirements.txt (line 13)) (1.9.0)\n",
            "Requirement already satisfied: click>=8.1.3 in /usr/local/lib/python3.11/dist-packages (from flask>=2.0.0->-r requirements.txt (line 13)) (8.2.1)\n",
            "Requirement already satisfied: itsdangerous>=2.2.0 in /usr/local/lib/python3.11/dist-packages (from flask>=2.0.0->-r requirements.txt (line 13)) (2.2.0)\n",
            "Requirement already satisfied: jinja2>=3.1.2 in /usr/local/lib/python3.11/dist-packages (from flask>=2.0.0->-r requirements.txt (line 13)) (3.1.6)\n",
            "Requirement already satisfied: markupsafe>=2.1.1 in /usr/local/lib/python3.11/dist-packages (from flask>=2.0.0->-r requirements.txt (line 13)) (3.0.2)\n",
            "Requirement already satisfied: werkzeug>=3.1.0 in /usr/local/lib/python3.11/dist-packages (from flask>=2.0.0->-r requirements.txt (line 13)) (3.1.3)\n",
            "Collecting python-socketio>=5.12.0 (from flask-socketio>=5.0.0->-r requirements.txt (line 14))\n",
            "  Downloading python_socketio-5.13.0-py3-none-any.whl.metadata (3.2 kB)\n",
            "Collecting dnspython>=1.15.0 (from eventlet>=0.30.0->-r requirements.txt (line 15))\n",
            "  Downloading dnspython-2.7.0-py3-none-any.whl.metadata (5.8 kB)\n",
            "Requirement already satisfied: httpcore==1.* in /usr/local/lib/python3.11/dist-packages (from httpx<1,>=0.23.0->openai>=1.0.0->-r requirements.txt (line 2)) (1.0.9)\n",
            "Requirement already satisfied: h11>=0.16 in /usr/local/lib/python3.11/dist-packages (from httpcore==1.*->httpx<1,>=0.23.0->openai>=1.0.0->-r requirements.txt (line 2)) (0.16.0)\n",
            "Requirement already satisfied: annotated-types>=0.6.0 in /usr/local/lib/python3.11/dist-packages (from pydantic<3,>=1.9.0->openai>=1.0.0->-r requirements.txt (line 2)) (0.7.0)\n",
            "Requirement already satisfied: pydantic-core==2.33.2 in /usr/local/lib/python3.11/dist-packages (from pydantic<3,>=1.9.0->openai>=1.0.0->-r requirements.txt (line 2)) (2.33.2)\n",
            "Requirement already satisfied: typing-inspection>=0.4.0 in /usr/local/lib/python3.11/dist-packages (from pydantic<3,>=1.9.0->openai>=1.0.0->-r requirements.txt (line 2)) (0.4.1)\n",
            "Collecting bidict>=0.21.0 (from python-socketio>=5.12.0->flask-socketio>=5.0.0->-r requirements.txt (line 14))\n",
            "  Downloading bidict-0.23.1-py3-none-any.whl.metadata (8.7 kB)\n",
            "Collecting python-engineio>=4.11.0 (from python-socketio>=5.12.0->flask-socketio>=5.0.0->-r requirements.txt (line 14))\n",
            "  Downloading python_engineio-4.12.2-py3-none-any.whl.metadata (2.2 kB)\n",
            "Collecting simple-websocket>=0.10.0 (from python-engineio>=4.11.0->python-socketio>=5.12.0->flask-socketio>=5.0.0->-r requirements.txt (line 14))\n",
            "  Downloading simple_websocket-1.1.0-py3-none-any.whl.metadata (1.5 kB)\n",
            "Requirement already satisfied: wsproto in /usr/local/lib/python3.11/dist-packages (from simple-websocket>=0.10.0->python-engineio>=4.11.0->python-socketio>=5.12.0->flask-socketio>=5.0.0->-r requirements.txt (line 14)) (1.2.0)\n",
            "Downloading anthropic-0.54.0-py3-none-any.whl (288 kB)\n",
            "\u001b[2K   \u001b[90m━━━━━━━━━━━━━━━━━━━━━━━━━━━━━━━━━━━━━━━━\u001b[0m \u001b[32m288.8/288.8 kB\u001b[0m \u001b[31m13.7 MB/s\u001b[0m eta \u001b[36m0:00:00\u001b[0m\n",
            "\u001b[?25hDownloading Flask_SocketIO-5.5.1-py3-none-any.whl (18 kB)\n",
            "Downloading eventlet-0.40.0-py3-none-any.whl (363 kB)\n",
            "\u001b[2K   \u001b[90m━━━━━━━━━━━━━━━━━━━━━━━━━━━━━━━━━━━━━━━━\u001b[0m \u001b[32m363.4/363.4 kB\u001b[0m \u001b[31m33.5 MB/s\u001b[0m eta \u001b[36m0:00:00\u001b[0m\n",
            "\u001b[?25hDownloading dnspython-2.7.0-py3-none-any.whl (313 kB)\n",
            "\u001b[2K   \u001b[90m━━━━━━━━━━━━━━━━━━━━━━━━━━━━━━━━━━━━━━━━\u001b[0m \u001b[32m313.6/313.6 kB\u001b[0m \u001b[31m31.9 MB/s\u001b[0m eta \u001b[36m0:00:00\u001b[0m\n",
            "\u001b[?25hDownloading python_socketio-5.13.0-py3-none-any.whl (77 kB)\n",
            "\u001b[2K   \u001b[90m━━━━━━━━━━━━━━━━━━━━━━━━━━━━━━━━━━━━━━━━\u001b[0m \u001b[32m77.8/77.8 kB\u001b[0m \u001b[31m8.9 MB/s\u001b[0m eta \u001b[36m0:00:00\u001b[0m\n",
            "\u001b[?25hDownloading plumbum-1.9.0-py3-none-any.whl (127 kB)\n",
            "\u001b[2K   \u001b[90m━━━━━━━━━━━━━━━━━━━━━━━━━━━━━━━━━━━━━━━━\u001b[0m \u001b[32m128.0/128.0 kB\u001b[0m \u001b[31m14.6 MB/s\u001b[0m eta \u001b[36m0:00:00\u001b[0m\n",
            "\u001b[?25hDownloading bidict-0.23.1-py3-none-any.whl (32 kB)\n",
            "Downloading python_engineio-4.12.2-py3-none-any.whl (59 kB)\n",
            "\u001b[2K   \u001b[90m━━━━━━━━━━━━━━━━━━━━━━━━━━━━━━━━━━━━━━━━\u001b[0m \u001b[32m59.5/59.5 kB\u001b[0m \u001b[31m6.5 MB/s\u001b[0m eta \u001b[36m0:00:00\u001b[0m\n",
            "\u001b[?25hDownloading simple_websocket-1.1.0-py3-none-any.whl (13 kB)\n",
            "Building wheels for collected packages: pandoc\n",
            "  Building wheel for pandoc (setup.py) ... \u001b[?25l\u001b[?25hdone\n",
            "  Created wheel for pandoc: filename=pandoc-2.4-py3-none-any.whl size=34793 sha256=22e4d69891355460edc5b32cfd2f52a49309f8b0db84ee22df18d597743be544\n",
            "  Stored in directory: /root/.cache/pip/wheels/4f/d7/32/c6c9b7b05e852e920fd72174487be3a0f18e633a7adcc303be\n",
            "Successfully built pandoc\n",
            "Installing collected packages: plumbum, dnspython, bidict, simple-websocket, pandoc, eventlet, python-engineio, anthropic, python-socketio, flask-socketio\n",
            "Successfully installed anthropic-0.54.0 bidict-0.23.1 dnspython-2.7.0 eventlet-0.40.0 flask-socketio-5.5.1 pandoc-2.4 plumbum-1.9.0 python-engineio-4.12.2 python-socketio-5.13.0 simple-websocket-1.1.0\n"
          ]
        }
      ],
      "source": [
        "# 克隆AGIBot项目\n",
        "import os\n",
        "\n",
        "!git clone https://github.com/agi-hub/AGIBot.git\n",
        "\n",
        "# 切换到项目目录并安装依赖\n",
        "!pip install -r requirements.txt\n",
        "\n",
        "!playwright install\n",
        "os.chdir('/content/AGIBot')"
      ]
    },
    {
      "cell_type": "code",
      "execution_count": 12,
      "metadata": {
        "colab": {
          "base_uri": "https://localhost:8080/"
        },
        "id": "F2Et4oc7jXDz",
        "outputId": "89141c03-d256-4bbc-8c0a-1552778f8e32"
      },
      "outputs": [
        {
          "name": "stdout",
          "output_type": "stream",
          "text": [
            "Installing dependencies...\n",
            "Hit:1 https://cloud.r-project.org/bin/linux/ubuntu jammy-cran40/ InRelease\n",
            "Hit:2 https://developer.download.nvidia.com/compute/cuda/repos/ubuntu2204/x86_64  InRelease\n",
            "Hit:3 http://security.ubuntu.com/ubuntu jammy-security InRelease\n",
            "Hit:4 https://r2u.stat.illinois.edu/ubuntu jammy InRelease\n",
            "Hit:5 https://ppa.launchpadcontent.net/deadsnakes/ppa/ubuntu jammy InRelease\n",
            "Hit:6 https://ppa.launchpadcontent.net/graphics-drivers/ppa/ubuntu jammy InRelease\n",
            "Hit:7 https://ppa.launchpadcontent.net/ubuntugis/ppa/ubuntu jammy InRelease\n",
            "Hit:8 http://archive.ubuntu.com/ubuntu jammy InRelease\n",
            "Hit:9 http://archive.ubuntu.com/ubuntu jammy-updates InRelease\n",
            "Hit:10 http://archive.ubuntu.com/ubuntu jammy-backports InRelease\n",
            "Reading package lists... Done\n",
            "W: Skipping acquire of configured file 'main/source/Sources' as repository 'https://r2u.stat.illinois.edu/ubuntu jammy InRelease' does not seem to provide it (sources.list entry misspelt?)\n",
            "Reading package lists... Done\n",
            "Building dependency tree... Done\n",
            "Reading state information... Done\n",
            "fonts-freefont-ttf is already the newest version (20120503-10build1).\n",
            "fonts-liberation is already the newest version (1:1.07.4-11).\n",
            "libasound2 is already the newest version (1.2.6.1-1ubuntu1).\n",
            "libatk-bridge2.0-0 is already the newest version (2.38.0-3).\n",
            "libatk1.0-0 is already the newest version (2.36.0-3build1).\n",
            "libatspi2.0-0 is already the newest version (2.44.0-3).\n",
            "libcairo-gobject2 is already the newest version (1.16.0-5ubuntu2).\n",
            "libcairo2 is already the newest version (1.16.0-5ubuntu2).\n",
            "libdbus-glib-1-2 is already the newest version (0.112-2build1).\n",
            "libegl1 is already the newest version (1.4.0-1).\n",
            "libenchant-2-2 is already the newest version (2.3.2-1ubuntu2).\n",
            "libepoxy0 is already the newest version (1.5.10-1).\n",
            "libevdev2 is already the newest version (1.12.1+dfsg-1).\n",
            "libevent-2.1-7 is already the newest version (2.1.12-stable-1build3).\n",
            "libfontconfig1 is already the newest version (2.13.1-4.2ubuntu5).\n",
            "libgles2 is already the newest version (1.4.0-1).\n",
            "libglx0 is already the newest version (1.4.0-1).\n",
            "libgudev-1.0-0 is already the newest version (1:237-2build1).\n",
            "libhyphen0 is already the newest version (2.8.8-7build2).\n",
            "libicu70 is already the newest version (70.1-2).\n",
            "libjpeg-turbo8 is already the newest version (2.1.2-0ubuntu1).\n",
            "liblcms2-2 is already the newest version (2.12~rc1-2build2).\n",
            "libmanette-0.2-0 is already the newest version (0.2.6-3build1).\n",
            "libopengl0 is already the newest version (1.4.0-1).\n",
            "libopus0 is already the newest version (1.3.1-0.1build2).\n",
            "libpng16-16 is already the newest version (1.6.37-3build5).\n",
            "libproxy1v5 is already the newest version (0.4.17-2).\n",
            "libsecret-1-0 is already the newest version (0.20.5-2).\n",
            "libwoff1 is already the newest version (1.0.2-1build4).\n",
            "libxcb-shm0 is already the newest version (1.14-3ubuntu3).\n",
            "libxcb1 is already the newest version (1.14-3ubuntu3).\n",
            "libxcomposite1 is already the newest version (1:0.4.5-1build2).\n",
            "libxcursor1 is already the newest version (1:1.2.0-2build4).\n",
            "libxdamage1 is already the newest version (1:1.1.5-2build2).\n",
            "libxext6 is already the newest version (2:1.3.4-1build1).\n",
            "libxfixes3 is already the newest version (1:6.0.0-1).\n",
            "libxi6 is already the newest version (2:1.8-1build1).\n",
            "libxkbcommon0 is already the newest version (1.4.0-1).\n",
            "libxrandr2 is already the newest version (2:1.5.2-1build1).\n",
            "libxrender1 is already the newest version (1:0.9.10-1build4).\n",
            "libxtst6 is already the newest version (2:1.2.3-1build4).\n",
            "xfonts-scalable is already the newest version (1:1.0.3-1.2ubuntu1).\n",
            "fonts-ipafont-gothic is already the newest version (00303-21ubuntu1).\n",
            "fonts-tlwg-loma-otf is already the newest version (1:0.7.3-1).\n",
            "fonts-unifont is already the newest version (1:14.0.01-1).\n",
            "fonts-wqy-zenhei is already the newest version (0.9.45-8).\n",
            "libavif13 is already the newest version (0.9.3-3).\n",
            "libffi7 is already the newest version (3.3-5ubuntu1).\n",
            "libx264-163 is already the newest version (2:0.163.3060+git5db6aa6-2build1).\n",
            "xfonts-cyrillic is already the newest version (1:1.0.5).\n",
            "fonts-noto-color-emoji is already the newest version (2.047-0ubuntu0.22.04.1).\n",
            "gstreamer1.0-plugins-base is already the newest version (1.20.1-1ubuntu0.4).\n",
            "gstreamer1.0-plugins-good is already the newest version (1.20.3-0ubuntu1.3).\n",
            "libatomic1 is already the newest version (12.3.0-1ubuntu1~22.04).\n",
            "libcups2 is already the newest version (2.4.1op1-1ubuntu4.11).\n",
            "libdbus-1-3 is already the newest version (1.12.20-2ubuntu4.1).\n",
            "libdrm2 is already the newest version (2.4.113-2~ubuntu0.22.04.1).\n",
            "libfreetype6 is already the newest version (2.11.1+dfsg-1ubuntu0.3).\n",
            "libgbm1 is already the newest version (23.2.1-1ubuntu3.1~22.04.3).\n",
            "libgdk-pixbuf-2.0-0 is already the newest version (2.42.8+dfsg-1ubuntu0.3).\n",
            "libglib2.0-0 is already the newest version (2.72.4-0ubuntu2.5).\n",
            "libgstreamer-gl1.0-0 is already the newest version (1.20.1-1ubuntu0.4).\n",
            "libgstreamer-plugins-base1.0-0 is already the newest version (1.20.1-1ubuntu0.4).\n",
            "libgstreamer1.0-0 is already the newest version (1.20.3-0ubuntu1.1).\n",
            "libgtk-3-0 is already the newest version (3.24.33-1ubuntu2.2).\n",
            "libgtk-4-1 is already the newest version (4.6.9+ds-0ubuntu0.22.04.2).\n",
            "libharfbuzz-icu0 is already the newest version (2.7.4-1ubuntu3.2).\n",
            "libharfbuzz0b is already the newest version (2.7.4-1ubuntu3.2).\n",
            "libnotify4 is already the newest version (0.7.9-3ubuntu5.22.04.1).\n",
            "libnspr4 is already the newest version (2:4.35-0ubuntu0.22.04.1).\n",
            "libnss3 is already the newest version (2:3.98-0ubuntu0.22.04.2).\n",
            "libopenjp2-7 is already the newest version (2.4.0-6ubuntu0.3).\n",
            "libpango-1.0-0 is already the newest version (1.50.6+ds-2ubuntu1).\n",
            "libpangocairo-1.0-0 is already the newest version (1.50.6+ds-2ubuntu1).\n",
            "libwayland-client0 is already the newest version (1.20.0-1ubuntu0.1).\n",
            "libwayland-egl1 is already the newest version (1.20.0-1ubuntu0.1).\n",
            "libwayland-server0 is already the newest version (1.20.0-1ubuntu0.1).\n",
            "libwebpdemux2 is already the newest version (1.2.2-2ubuntu0.22.04.2).\n",
            "libx11-6 is already the newest version (2:1.7.5-1ubuntu0.3).\n",
            "libx11-xcb1 is already the newest version (2:1.7.5-1ubuntu0.3).\n",
            "libxml2 is already the newest version (2.9.13+dfsg-1ubuntu0.7).\n",
            "libxslt1.1 is already the newest version (1.1.34-4ubuntu0.22.04.3).\n",
            "ffmpeg is already the newest version (7:4.4.2-0ubuntu0.22.04.1).\n",
            "gstreamer1.0-libav is already the newest version (1.20.3-0ubuntu1).\n",
            "gstreamer1.0-plugins-bad is already the newest version (1.20.3-0ubuntu1.1).\n",
            "libsoup-3.0-0 is already the newest version (3.0.7-0ubuntu1).\n",
            "xvfb is already the newest version (2:21.1.4-2ubuntu1.7~22.04.15).\n",
            "0 upgraded, 0 newly installed, 0 to remove and 46 not upgraded.\n"
          ]
        }
      ],
      "source": [
        "!playwright install-deps\n",
        "!playwright install chromium"
      ]
    },
    {
      "cell_type": "markdown",
      "metadata": {
        "id": "9_zgksx2G88Z"
      },
      "source": [
        "注意：现在，请打开左侧的文件夹，配置config.txt中的API Key, API Base及Max Tokens等选项。"
      ]
    },
    {
      "cell_type": "code",
      "execution_count": 17,
      "metadata": {
        "colab": {
          "base_uri": "https://localhost:8080/"
        },
        "id": "K97EC80FDLPC",
        "outputId": "9c14dfb7-aba5-49b4-8989-94c81bd23c9f"
      },
      "outputs": [
        {
          "name": "stdout",
          "output_type": "stream",
          "text": [
            "\u001b[94m\n",
            "                                                             \n",
            "       █████╗  ██████╗ ██╗    ██████╗  ██████╗ ████████╗     \n",
            "      ██╔══██╗██╔════╝ ██║    ██╔══██╗██╔═══██╗╚══██╔══╝     \n",
            "      ███████║██║  ███╗██║    ██████╔╝██║   ██║   ██║        \n",
            "      ██╔══██║██║   ██║██║    ██╔══██╗██║   ██║   ██║        \n",
            "      ██║  ██║╚██████╔╝██║    ██████╔╝╚██████╔╝   ██║        \n",
            "      ╚═╝  ╚═╝ ╚═════╝ ╚═╝    ╚═════╝  ╚═════╝    ╚═╝        \n",
            "                                                             \n",
            "         🚀 Autonomous Task Execution System                 \n",
            "         🧠 LLM-Powered Cognitive Architecture              \n",
            "                                                             \u001b[0m\n",
            "    \n",
            "📁 Project: /content/AGIBot/output_sing\n",
            "Received user requirement: 写一首给程序员的歌\n",
            "📁 Workspace directory created: output_sing/workspace\n",
            "📁 Using existing web search result directory: output_sing/workspace/web_search_result\n",
            "📝 LLM content filtering disabled\n",
            "🚀 Starting task execution (25 rounds max)\n",
            "📋 Starting task execution [1/1] - Task1: User Requirement Execution\n",
            "\n",
            "🔄 --- Round 1/25 execution ---\n",
            "⏳ Starting round 1 execution...\n",
            "✅ Loaded modular system prompts from: prompts/system_prompt.txt, prompts/rules_prompt.txt, prompts/tool_prompt.txt\n",
            "🔑 Request cache key: 98d16bdc5db5693c... (for cache hit tracking)\n",
            "🤖 Calling LLM (Round 1): Task description: 写一首给程序员的歌\n",
            "🔄 Starting streaming generation...\n",
            "我将为您创作一首专门写给程序员的歌曲。这首歌会包含程序员日常工作的元素、技术术语，以及他们的情感表达。让我先构思一下歌曲的结构和内容。\n",
            "\n",
            "<function_calls>\n",
            "<invoke name=\"edit_file\">\n",
            "<parameter name=\"target_file\">程序员之歌.txt</parameter>\n",
            "<parameter name=\"instructions\">创建一首写给程序员的歌曲</parameter>\n",
            "<parameter name=\"code_edit\">《码农的浪漫》\n",
            "词曲：AI助手\n",
            "\n",
            "[Verse 1]\n",
            "凌晨三点的屏幕光\n",
            "键盘敲击声在回荡\n",
            "if else 是我的诗行\n",
            "bug 是未解的惆怅\n",
            "\n",
            "[Chorus]\n",
            "Hello world 是我的开场\n",
            "996 是日常的战场\n",
            "但当我看到程序跑通那刻\n",
            "所有疲惫都值得被原谅\n",
            "\n",
            "[Verse 2]\n",
            "咖啡杯里倒映着月光\n",
            "需求文档又改了方向\n",
            "产品经理说这次很简单\n",
            "却不知我头发又掉几行\n",
            "\n",
            "[Bridge]\n",
            "Git push 我的倔强\n",
            "Stack Overflow 是避风港\n",
            "虽然薪水总追不上房价\n",
            "但代码里有我的理想\n",
            "\n",
            "[Outro]\n",
            "这一生与机器对话\n",
            "用逻辑编织童话\n",
            "或许没人懂我的语言\n",
            "但这就是程序员的浪漫</parameter>\n",
            "</invoke>\n",
            "</function_calls>\n",
            "✅ Streaming completed\n",
            "\n",
            "📝 Response content length: 584 characters\n",
            "🔧 Found 1 tool calls, starting execution...\n",
            "<tool_execute tool_name=\"edit_file\" tool_number=\"1\">\n",
            "   - Executing tool 1: edit_file\n",
            "Executing tool: edit_file with params: ['target_file', 'instructions', 'code_edit']\n",
            "Editing file: 程序员之歌.txt\n",
            "Instructions: 创建一首写给程序员的歌曲\n",
            "Status: created\n",
            "File: 程序员之歌.txt\n",
            "</tool_execute>\n",
            "Building prefix dict from the default dictionary ...\n",
            "DEBUG:jieba:Building prefix dict from the default dictionary ...\n",
            "Dumping model to file cache /tmp/jieba.cache\n",
            "DEBUG:jieba:Dumping model to file cache /tmp/jieba.cache\n",
            "Loading model cost 1.019 seconds.\n",
            "DEBUG:jieba:Loading model cost 1.019 seconds.\n",
            "Prefix dict has been built successfully.\n",
            "DEBUG:jieba:Prefix dict has been built successfully.\n",
            "📊 Total conversation length: 1385 chars (trigger threshold: 100000 chars)\n",
            "📝 Conversation length below threshold, using full conversation history\n",
            "🤖 Calling LLM (Round 2): Processing tool call results\n",
            "🔄 Starting streaming generation...\n",
            "TASK_COMPLETED: 已成功创作并保存了一首写给程序员的歌曲《码农的浪漫》，歌词包含了程序员日常工作场景、技术术语和情感表达，文件已保存为\"程序员之歌.txt\"。\n",
            "✅ Streaming completed\n",
            "\n",
            "📝 Response content length: 86 characters\n",
            "🎉 TASK_COMPLETED flag detected in content, task completed!\n",
            "🎉 Task completion flag detected: 已成功创作并保存了一首写给程序员的歌曲《码农的浪漫》，歌词包含了程序员日常工作场景、技术术语和情感表达，文件已保存为\"程序员之歌.txt\"。\n",
            "🎉 Task completion flag detected: 已成功创作并保存了一首写给程序员的歌曲《码农的浪漫》，歌词包含了程序员日常工作场景、技术术语和情感表达，文件已保存为\"程序员之歌.txt\"。\n",
            "✅ Round 1 execution completed\n",
            "\n",
            "📝 Round 1 response summary: ✅ 已成功创作并保存了一首写给程序员的歌曲《码农的浪漫》，歌词包含了程序员日常工作场景、技术术语和情感表达，文件已保存为\"程序员之歌.txt\"。\n",
            "🎉 Large model determined task is completed, ending iteration early!\n",
            "✅ Task 1 execution completed successfully\n",
            "✅ Single task execution completed successfully\n",
            "📋 Execution report saved to: output_sing/logs/single_task_report_20250618_103241.json\n",
            "📝 Human-readable report saved to: output_sing/logs/single_task_report_20250618_103241.md\n",
            "📋 Summary report generation disabled in config\n",
            "\n",
            "🎉 Task execution completed!\n",
            "📁 All output files saved at: /content/AGIBot/output_sing\n",
            "💻 Code files saved at: /content/AGIBot/output_sing/workspace\n",
            "\n",
            "🎉 Workflow completed!\n"
          ]
        }
      ],
      "source": [
        "## 🚀 步骤3: 启动AGIBot\n",
        "! python3 main.py -r \"写一首给程序员的歌\" -d \"output_sing\""
      ]
    },
    {
      "cell_type": "code",
      "execution_count": 18,
      "metadata": {
        "colab": {
          "base_uri": "https://localhost:8080/"
        },
        "id": "LLQ-fCmOIlta",
        "outputId": "ca11a667-1989-4bba-ddcb-db1ada4c3940"
      },
      "outputs": [
        {
          "name": "stdout",
          "output_type": "stream",
          "text": [
            "total 16\n",
            "drwxr-xr-x 3 root root 4096 Jun 18 10:32 .\n",
            "drwxr-xr-x 6 root root 4096 Jun 18 10:30 ..\n",
            "drwxr-xr-x 2 root root 4096 Jun 18 10:30 web_search_result\n",
            "-rw-r--r-- 1 root root  636 Jun 18 10:32 程序员之歌.txt\n"
          ]
        }
      ],
      "source": [
        "#您可以从dir文件夹中找到AGI Bot的输出物\n",
        "! ls -al output_sing/workspace"
      ]
    },
    {
      "cell_type": "code",
      "execution_count": 19,
      "metadata": {
        "colab": {
          "base_uri": "https://localhost:8080/"
        },
        "id": "l86Is-2GJJdp",
        "outputId": "dd09056d-f95f-46fd-fc08-8f2929ded95c"
      },
      "outputs": [
        {
          "name": "stdout",
          "output_type": "stream",
          "text": [
            "output_sing/workspace/\n",
            "output_sing/workspace/web_search_result/\n",
            "output_sing/workspace/程序员之歌.txt\n"
          ]
        }
      ],
      "source": [
        "#您可以下载这个目录到本地,执行完毕后从文件夹里可以找到压缩包\n",
        "!tar zcvf agibotdemo.tar.gz output_sing/workspace"
      ]
    },
    {
      "cell_type": "markdown",
      "metadata": {
        "id": "tUUChePPH1vw"
      },
      "source": [
        "####   更多任务尝试\n",
        "    您可以执行更多任务进行尝试，例如：\n",
        "    ! python3 main.py -r \"抓取一下今天的新闻\"\n",
        "    ! python3 main.py -r \"创建一个Python计算器程序\"\n",
        "    ! python3 main.py -r \"写一个大模型智能体介绍的ppt\"\n",
        "  \n",
        "    \n",
        "    "
      ]
    }
  ],
  "metadata": {
    "colab": {
      "provenance": []
    },
    "kernelspec": {
      "display_name": "Python 3",
      "name": "python3"
    },
    "language_info": {
      "name": "python"
    }
  },
  "nbformat": 4,
  "nbformat_minor": 0
}
